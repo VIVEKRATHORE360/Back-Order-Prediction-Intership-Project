{
 "cells": [
  {
   "cell_type": "code",
   "execution_count": null,
   "metadata": {
    "id": "VwR84DhRv9TZ"
   },
   "outputs": [],
   "source": [
    "import pandas as pd\n",
    "import warnings\n",
    "import seaborn as sns\n",
    "import matplotlib.pyplot as plt\n",
    "%matplotlib inline\n",
    "warnings.filterwarnings('ignore')\n",
    "\n",
    "pd.set_option('display.max_columns', None)\n",
    "backorddf_1 = pd.read_csv('Kaggle_Training_Dataset_v2.csv')\n",
    "backorddf_2 = pd.read_csv('Kaggle_Test_Dataset_v2.csv')\n",
    "\n",
    "backorddf = pd.concat([backorddf_1, backorddf_2])"
   ]
  },
  {
   "cell_type": "markdown",
   "metadata": {
    "colab": {
     "base_uri": "https://localhost:8080/",
     "height": 224
    },
    "id": "dzKCgVvXwNY4",
    "outputId": "63034d5f-5c3d-483a-bd45-10c0cefff6b7"
   },
   "source": [
    "###### Feature Descriptions:\n",
    "\n",
    "  - Sku(Stock Keeping unit) : The product id — Unique for each row so can be ignored\n",
    "  - National_inv : The present inventory level of the product\n",
    "  - Lead_time : Transit time of the product\n",
    "  - In_transit_qty : The amount of product in transit\n",
    "  - Forecast_3_month , Forecast_6_month , Forecast_9_month : Forecast of the sales of the product for coming 3 , 6 and 9 months respectively\n",
    "  - Sales_1_month , sales_3_month ,sales_6_month , sales_9_month : Actual sales of the product in last 1 , 3 ,6 and 9 months respectively\n",
    "  - Min_bank : Minimum amount of stock recommended\n",
    "  - Potential_issue : Any problem identified in the product/part\n",
    "  - Pieces_past_due: Amount of parts of the product overdue if any\n",
    "  - Perf_6_month_avg , perf_12_month_avg : Product performance over past 6 and 12 months respectively\n",
    "  - Local_bo_qty : Amount of stock overdue\n",
    "  - Deck_risk , oe_constraint, ppap_risk, stop_auto_buy, rev_stop : Different Flags (Yes or No) set for the product\n",
    "  - Went_on_backorder : Target variable\n"
   ]
  },
  {
   "cell_type": "code",
   "execution_count": null,
   "metadata": {
    "colab": {
     "base_uri": "https://localhost:8080/"
    },
    "id": "hh4znsfbwSEu",
    "outputId": "bb96a7d3-eebb-4d67-ba54-1e655a78d7e6"
   },
   "outputs": [
    {
     "data": {
      "text/plain": [
       "(1929937, 23)"
      ]
     },
     "execution_count": 36,
     "metadata": {
      "tags": []
     },
     "output_type": "execute_result"
    }
   ],
   "source": [
    "backorddf.shape"
   ]
  },
  {
   "cell_type": "code",
   "execution_count": null,
   "metadata": {
    "colab": {
     "base_uri": "https://localhost:8080/",
     "height": 317
    },
    "id": "187SHJNYwZb6",
    "outputId": "56d923de-4fe3-408b-cbb4-4a049741e0ae"
   },
   "outputs": [
    {
     "data": {
      "text/html": [
       "<div>\n",
       "<style scoped>\n",
       "    .dataframe tbody tr th:only-of-type {\n",
       "        vertical-align: middle;\n",
       "    }\n",
       "\n",
       "    .dataframe tbody tr th {\n",
       "        vertical-align: top;\n",
       "    }\n",
       "\n",
       "    .dataframe thead th {\n",
       "        text-align: right;\n",
       "    }\n",
       "</style>\n",
       "<table border=\"1\" class=\"dataframe\">\n",
       "  <thead>\n",
       "    <tr style=\"text-align: right;\">\n",
       "      <th></th>\n",
       "      <th>national_inv</th>\n",
       "      <th>lead_time</th>\n",
       "      <th>in_transit_qty</th>\n",
       "      <th>forecast_3_month</th>\n",
       "      <th>forecast_6_month</th>\n",
       "      <th>forecast_9_month</th>\n",
       "      <th>sales_1_month</th>\n",
       "      <th>sales_3_month</th>\n",
       "      <th>sales_6_month</th>\n",
       "      <th>sales_9_month</th>\n",
       "      <th>min_bank</th>\n",
       "      <th>pieces_past_due</th>\n",
       "      <th>perf_6_month_avg</th>\n",
       "      <th>perf_12_month_avg</th>\n",
       "      <th>local_bo_qty</th>\n",
       "    </tr>\n",
       "  </thead>\n",
       "  <tbody>\n",
       "    <tr>\n",
       "      <th>count</th>\n",
       "      <td>1.929935e+06</td>\n",
       "      <td>1.814318e+06</td>\n",
       "      <td>1.929935e+06</td>\n",
       "      <td>1.929935e+06</td>\n",
       "      <td>1.929935e+06</td>\n",
       "      <td>1.929935e+06</td>\n",
       "      <td>1.929935e+06</td>\n",
       "      <td>1.929935e+06</td>\n",
       "      <td>1.929935e+06</td>\n",
       "      <td>1.929935e+06</td>\n",
       "      <td>1.929935e+06</td>\n",
       "      <td>1.929935e+06</td>\n",
       "      <td>1.929935e+06</td>\n",
       "      <td>1.929935e+06</td>\n",
       "      <td>1.929935e+06</td>\n",
       "    </tr>\n",
       "    <tr>\n",
       "      <th>mean</th>\n",
       "      <td>4.965683e+02</td>\n",
       "      <td>7.878627e+00</td>\n",
       "      <td>4.306440e+01</td>\n",
       "      <td>1.785399e+02</td>\n",
       "      <td>3.454659e+02</td>\n",
       "      <td>5.066067e+02</td>\n",
       "      <td>5.536816e+01</td>\n",
       "      <td>1.746639e+02</td>\n",
       "      <td>3.415653e+02</td>\n",
       "      <td>5.235771e+02</td>\n",
       "      <td>5.277637e+01</td>\n",
       "      <td>2.016193e+00</td>\n",
       "      <td>-6.899870e+00</td>\n",
       "      <td>-6.462343e+00</td>\n",
       "      <td>6.537039e-01</td>\n",
       "    </tr>\n",
       "    <tr>\n",
       "      <th>std</th>\n",
       "      <td>2.957343e+04</td>\n",
       "      <td>7.054212e+00</td>\n",
       "      <td>1.295420e+03</td>\n",
       "      <td>5.108770e+03</td>\n",
       "      <td>9.831562e+03</td>\n",
       "      <td>1.434543e+04</td>\n",
       "      <td>1.884377e+03</td>\n",
       "      <td>5.188856e+03</td>\n",
       "      <td>9.585030e+03</td>\n",
       "      <td>1.473327e+04</td>\n",
       "      <td>1.257968e+03</td>\n",
       "      <td>2.296112e+02</td>\n",
       "      <td>2.659988e+01</td>\n",
       "      <td>2.588343e+01</td>\n",
       "      <td>3.543230e+01</td>\n",
       "    </tr>\n",
       "    <tr>\n",
       "      <th>min</th>\n",
       "      <td>-2.725600e+04</td>\n",
       "      <td>0.000000e+00</td>\n",
       "      <td>0.000000e+00</td>\n",
       "      <td>0.000000e+00</td>\n",
       "      <td>0.000000e+00</td>\n",
       "      <td>0.000000e+00</td>\n",
       "      <td>0.000000e+00</td>\n",
       "      <td>0.000000e+00</td>\n",
       "      <td>0.000000e+00</td>\n",
       "      <td>0.000000e+00</td>\n",
       "      <td>0.000000e+00</td>\n",
       "      <td>0.000000e+00</td>\n",
       "      <td>-9.900000e+01</td>\n",
       "      <td>-9.900000e+01</td>\n",
       "      <td>0.000000e+00</td>\n",
       "    </tr>\n",
       "    <tr>\n",
       "      <th>25%</th>\n",
       "      <td>4.000000e+00</td>\n",
       "      <td>4.000000e+00</td>\n",
       "      <td>0.000000e+00</td>\n",
       "      <td>0.000000e+00</td>\n",
       "      <td>0.000000e+00</td>\n",
       "      <td>0.000000e+00</td>\n",
       "      <td>0.000000e+00</td>\n",
       "      <td>0.000000e+00</td>\n",
       "      <td>0.000000e+00</td>\n",
       "      <td>0.000000e+00</td>\n",
       "      <td>0.000000e+00</td>\n",
       "      <td>0.000000e+00</td>\n",
       "      <td>6.300000e-01</td>\n",
       "      <td>6.600000e-01</td>\n",
       "      <td>0.000000e+00</td>\n",
       "    </tr>\n",
       "    <tr>\n",
       "      <th>50%</th>\n",
       "      <td>1.500000e+01</td>\n",
       "      <td>8.000000e+00</td>\n",
       "      <td>0.000000e+00</td>\n",
       "      <td>0.000000e+00</td>\n",
       "      <td>0.000000e+00</td>\n",
       "      <td>0.000000e+00</td>\n",
       "      <td>0.000000e+00</td>\n",
       "      <td>1.000000e+00</td>\n",
       "      <td>2.000000e+00</td>\n",
       "      <td>4.000000e+00</td>\n",
       "      <td>0.000000e+00</td>\n",
       "      <td>0.000000e+00</td>\n",
       "      <td>8.200000e-01</td>\n",
       "      <td>8.100000e-01</td>\n",
       "      <td>0.000000e+00</td>\n",
       "    </tr>\n",
       "    <tr>\n",
       "      <th>75%</th>\n",
       "      <td>8.000000e+01</td>\n",
       "      <td>9.000000e+00</td>\n",
       "      <td>0.000000e+00</td>\n",
       "      <td>4.000000e+00</td>\n",
       "      <td>1.200000e+01</td>\n",
       "      <td>2.000000e+01</td>\n",
       "      <td>4.000000e+00</td>\n",
       "      <td>1.500000e+01</td>\n",
       "      <td>3.100000e+01</td>\n",
       "      <td>4.700000e+01</td>\n",
       "      <td>3.000000e+00</td>\n",
       "      <td>0.000000e+00</td>\n",
       "      <td>9.600000e-01</td>\n",
       "      <td>9.500000e-01</td>\n",
       "      <td>0.000000e+00</td>\n",
       "    </tr>\n",
       "    <tr>\n",
       "      <th>max</th>\n",
       "      <td>1.233440e+07</td>\n",
       "      <td>5.200000e+01</td>\n",
       "      <td>4.894080e+05</td>\n",
       "      <td>1.510592e+06</td>\n",
       "      <td>2.461360e+06</td>\n",
       "      <td>3.777304e+06</td>\n",
       "      <td>7.417740e+05</td>\n",
       "      <td>1.105478e+06</td>\n",
       "      <td>2.146625e+06</td>\n",
       "      <td>3.205172e+06</td>\n",
       "      <td>3.133190e+05</td>\n",
       "      <td>1.464960e+05</td>\n",
       "      <td>1.000000e+00</td>\n",
       "      <td>1.000000e+00</td>\n",
       "      <td>1.253000e+04</td>\n",
       "    </tr>\n",
       "  </tbody>\n",
       "</table>\n",
       "</div>"
      ],
      "text/plain": [
       "       national_inv     lead_time  in_transit_qty  forecast_3_month  \\\n",
       "count  1.929935e+06  1.814318e+06    1.929935e+06      1.929935e+06   \n",
       "mean   4.965683e+02  7.878627e+00    4.306440e+01      1.785399e+02   \n",
       "std    2.957343e+04  7.054212e+00    1.295420e+03      5.108770e+03   \n",
       "min   -2.725600e+04  0.000000e+00    0.000000e+00      0.000000e+00   \n",
       "25%    4.000000e+00  4.000000e+00    0.000000e+00      0.000000e+00   \n",
       "50%    1.500000e+01  8.000000e+00    0.000000e+00      0.000000e+00   \n",
       "75%    8.000000e+01  9.000000e+00    0.000000e+00      4.000000e+00   \n",
       "max    1.233440e+07  5.200000e+01    4.894080e+05      1.510592e+06   \n",
       "\n",
       "       forecast_6_month  forecast_9_month  sales_1_month  sales_3_month  \\\n",
       "count      1.929935e+06      1.929935e+06   1.929935e+06   1.929935e+06   \n",
       "mean       3.454659e+02      5.066067e+02   5.536816e+01   1.746639e+02   \n",
       "std        9.831562e+03      1.434543e+04   1.884377e+03   5.188856e+03   \n",
       "min        0.000000e+00      0.000000e+00   0.000000e+00   0.000000e+00   \n",
       "25%        0.000000e+00      0.000000e+00   0.000000e+00   0.000000e+00   \n",
       "50%        0.000000e+00      0.000000e+00   0.000000e+00   1.000000e+00   \n",
       "75%        1.200000e+01      2.000000e+01   4.000000e+00   1.500000e+01   \n",
       "max        2.461360e+06      3.777304e+06   7.417740e+05   1.105478e+06   \n",
       "\n",
       "       sales_6_month  sales_9_month      min_bank  pieces_past_due  \\\n",
       "count   1.929935e+06   1.929935e+06  1.929935e+06     1.929935e+06   \n",
       "mean    3.415653e+02   5.235771e+02  5.277637e+01     2.016193e+00   \n",
       "std     9.585030e+03   1.473327e+04  1.257968e+03     2.296112e+02   \n",
       "min     0.000000e+00   0.000000e+00  0.000000e+00     0.000000e+00   \n",
       "25%     0.000000e+00   0.000000e+00  0.000000e+00     0.000000e+00   \n",
       "50%     2.000000e+00   4.000000e+00  0.000000e+00     0.000000e+00   \n",
       "75%     3.100000e+01   4.700000e+01  3.000000e+00     0.000000e+00   \n",
       "max     2.146625e+06   3.205172e+06  3.133190e+05     1.464960e+05   \n",
       "\n",
       "       perf_6_month_avg  perf_12_month_avg  local_bo_qty  \n",
       "count      1.929935e+06       1.929935e+06  1.929935e+06  \n",
       "mean      -6.899870e+00      -6.462343e+00  6.537039e-01  \n",
       "std        2.659988e+01       2.588343e+01  3.543230e+01  \n",
       "min       -9.900000e+01      -9.900000e+01  0.000000e+00  \n",
       "25%        6.300000e-01       6.600000e-01  0.000000e+00  \n",
       "50%        8.200000e-01       8.100000e-01  0.000000e+00  \n",
       "75%        9.600000e-01       9.500000e-01  0.000000e+00  \n",
       "max        1.000000e+00       1.000000e+00  1.253000e+04  "
      ]
     },
     "execution_count": 37,
     "metadata": {
      "tags": []
     },
     "output_type": "execute_result"
    }
   ],
   "source": [
    "backorddf.describe()"
   ]
  },
  {
   "cell_type": "markdown",
   "metadata": {
    "id": "N41uCIDCwg0y"
   },
   "source": [
    "Observation\n",
    "\n",
    "1. The most of the feature mean value is greater than the 75 percentile so it is extreamly postive skewed\n",
    "\n",
    "2. Most of the features max value is greater than the 75% so they have outliers\n",
    "\n",
    "3. The features perf_6_month_avg and perf_12_month_avg has max value 1 and min value -99 so most of the missing value is replace with -99."
   ]
  },
  {
   "cell_type": "code",
   "execution_count": null,
   "metadata": {
    "colab": {
     "base_uri": "https://localhost:8080/"
    },
    "id": "GNididH7wcQ2",
    "outputId": "ddd6839b-5bf7-461c-fc1c-a351aa0bdfae"
   },
   "outputs": [
    {
     "data": {
      "text/plain": [
       "['national_inv',\n",
       " 'lead_time',\n",
       " 'in_transit_qty',\n",
       " 'forecast_3_month',\n",
       " 'forecast_6_month',\n",
       " 'forecast_9_month',\n",
       " 'sales_1_month',\n",
       " 'sales_3_month',\n",
       " 'sales_6_month',\n",
       " 'sales_9_month',\n",
       " 'min_bank',\n",
       " 'potential_issue',\n",
       " 'pieces_past_due',\n",
       " 'perf_6_month_avg',\n",
       " 'perf_12_month_avg',\n",
       " 'local_bo_qty',\n",
       " 'deck_risk',\n",
       " 'oe_constraint',\n",
       " 'ppap_risk',\n",
       " 'stop_auto_buy',\n",
       " 'rev_stop',\n",
       " 'went_on_backorder']"
      ]
     },
     "execution_count": 38,
     "metadata": {
      "tags": []
     },
     "output_type": "execute_result"
    }
   ],
   "source": [
    "# Checking the Null Value Columns\n",
    "\n",
    "def NullValsCols(df):\n",
    "  return df.columns[df.isnull().any()].to_list()\n",
    "\n",
    "NullValsCols(backorddf)"
   ]
  },
  {
   "cell_type": "markdown",
   "metadata": {
    "id": "Cc0mds76wzFg"
   },
   "source": [
    "Observations\n",
    "\n",
    "  1. Out of 23 Features 22 feature having Misssing values"
   ]
  },
  {
   "cell_type": "code",
   "execution_count": null,
   "metadata": {
    "colab": {
     "base_uri": "https://localhost:8080/",
     "height": 731
    },
    "id": "1cIC9erbwtFa",
    "outputId": "dffd079b-218c-49df-ef38-a2b061780cea"
   },
   "outputs": [
    {
     "data": {
      "text/html": [
       "<div>\n",
       "<style scoped>\n",
       "    .dataframe tbody tr th:only-of-type {\n",
       "        vertical-align: middle;\n",
       "    }\n",
       "\n",
       "    .dataframe tbody tr th {\n",
       "        vertical-align: top;\n",
       "    }\n",
       "\n",
       "    .dataframe thead th {\n",
       "        text-align: right;\n",
       "    }\n",
       "</style>\n",
       "<table border=\"1\" class=\"dataframe\">\n",
       "  <thead>\n",
       "    <tr style=\"text-align: right;\">\n",
       "      <th></th>\n",
       "      <th>Total</th>\n",
       "      <th>Percentage(%)</th>\n",
       "    </tr>\n",
       "  </thead>\n",
       "  <tbody>\n",
       "    <tr>\n",
       "      <th>lead_time</th>\n",
       "      <td>115619</td>\n",
       "      <td>5.990817</td>\n",
       "    </tr>\n",
       "    <tr>\n",
       "      <th>went_on_backorder</th>\n",
       "      <td>2</td>\n",
       "      <td>0.000104</td>\n",
       "    </tr>\n",
       "    <tr>\n",
       "      <th>rev_stop</th>\n",
       "      <td>2</td>\n",
       "      <td>0.000104</td>\n",
       "    </tr>\n",
       "    <tr>\n",
       "      <th>in_transit_qty</th>\n",
       "      <td>2</td>\n",
       "      <td>0.000104</td>\n",
       "    </tr>\n",
       "    <tr>\n",
       "      <th>forecast_3_month</th>\n",
       "      <td>2</td>\n",
       "      <td>0.000104</td>\n",
       "    </tr>\n",
       "    <tr>\n",
       "      <th>forecast_6_month</th>\n",
       "      <td>2</td>\n",
       "      <td>0.000104</td>\n",
       "    </tr>\n",
       "    <tr>\n",
       "      <th>forecast_9_month</th>\n",
       "      <td>2</td>\n",
       "      <td>0.000104</td>\n",
       "    </tr>\n",
       "    <tr>\n",
       "      <th>sales_1_month</th>\n",
       "      <td>2</td>\n",
       "      <td>0.000104</td>\n",
       "    </tr>\n",
       "    <tr>\n",
       "      <th>sales_3_month</th>\n",
       "      <td>2</td>\n",
       "      <td>0.000104</td>\n",
       "    </tr>\n",
       "    <tr>\n",
       "      <th>sales_6_month</th>\n",
       "      <td>2</td>\n",
       "      <td>0.000104</td>\n",
       "    </tr>\n",
       "    <tr>\n",
       "      <th>sales_9_month</th>\n",
       "      <td>2</td>\n",
       "      <td>0.000104</td>\n",
       "    </tr>\n",
       "    <tr>\n",
       "      <th>min_bank</th>\n",
       "      <td>2</td>\n",
       "      <td>0.000104</td>\n",
       "    </tr>\n",
       "    <tr>\n",
       "      <th>potential_issue</th>\n",
       "      <td>2</td>\n",
       "      <td>0.000104</td>\n",
       "    </tr>\n",
       "    <tr>\n",
       "      <th>pieces_past_due</th>\n",
       "      <td>2</td>\n",
       "      <td>0.000104</td>\n",
       "    </tr>\n",
       "    <tr>\n",
       "      <th>perf_6_month_avg</th>\n",
       "      <td>2</td>\n",
       "      <td>0.000104</td>\n",
       "    </tr>\n",
       "    <tr>\n",
       "      <th>perf_12_month_avg</th>\n",
       "      <td>2</td>\n",
       "      <td>0.000104</td>\n",
       "    </tr>\n",
       "    <tr>\n",
       "      <th>local_bo_qty</th>\n",
       "      <td>2</td>\n",
       "      <td>0.000104</td>\n",
       "    </tr>\n",
       "    <tr>\n",
       "      <th>deck_risk</th>\n",
       "      <td>2</td>\n",
       "      <td>0.000104</td>\n",
       "    </tr>\n",
       "    <tr>\n",
       "      <th>oe_constraint</th>\n",
       "      <td>2</td>\n",
       "      <td>0.000104</td>\n",
       "    </tr>\n",
       "    <tr>\n",
       "      <th>ppap_risk</th>\n",
       "      <td>2</td>\n",
       "      <td>0.000104</td>\n",
       "    </tr>\n",
       "    <tr>\n",
       "      <th>stop_auto_buy</th>\n",
       "      <td>2</td>\n",
       "      <td>0.000104</td>\n",
       "    </tr>\n",
       "    <tr>\n",
       "      <th>national_inv</th>\n",
       "      <td>2</td>\n",
       "      <td>0.000104</td>\n",
       "    </tr>\n",
       "  </tbody>\n",
       "</table>\n",
       "</div>"
      ],
      "text/plain": [
       "                    Total  Percentage(%)\n",
       "lead_time          115619       5.990817\n",
       "went_on_backorder       2       0.000104\n",
       "rev_stop                2       0.000104\n",
       "in_transit_qty          2       0.000104\n",
       "forecast_3_month        2       0.000104\n",
       "forecast_6_month        2       0.000104\n",
       "forecast_9_month        2       0.000104\n",
       "sales_1_month           2       0.000104\n",
       "sales_3_month           2       0.000104\n",
       "sales_6_month           2       0.000104\n",
       "sales_9_month           2       0.000104\n",
       "min_bank                2       0.000104\n",
       "potential_issue         2       0.000104\n",
       "pieces_past_due         2       0.000104\n",
       "perf_6_month_avg        2       0.000104\n",
       "perf_12_month_avg       2       0.000104\n",
       "local_bo_qty            2       0.000104\n",
       "deck_risk               2       0.000104\n",
       "oe_constraint           2       0.000104\n",
       "ppap_risk               2       0.000104\n",
       "stop_auto_buy           2       0.000104\n",
       "national_inv            2       0.000104"
      ]
     },
     "execution_count": 39,
     "metadata": {
      "tags": []
     },
     "output_type": "execute_result"
    }
   ],
   "source": [
    "# Finding Missing Value tota with Percentage\n",
    "\n",
    "def MissingValsPercent(df):\n",
    "  missing_col = NullValsCols(df)\n",
    "  total_mising_vals = df[missing_col].isnull().sum().sort_values(ascending=False)\n",
    "  tota_missing_perc = ((df[missing_col].isnull().sum() / df[missing_col].isnull().count()) * 100 ).sort_values(ascending=False)\n",
    "  return pd.concat([total_mising_vals, tota_missing_perc], axis=1, keys=['Total', 'Percentage(%)'])\n",
    "\n",
    "MissingValsPercent(backorddf)"
   ]
  },
  {
   "cell_type": "markdown",
   "metadata": {
    "id": "kAV96AywxC_y"
   },
   "source": [
    "Observation\n",
    "\n",
    "1. Out of 22 Missing features there is lead_time feaure only having 6% of missing value from overall dataset remaining fetures having only 2 missing record."
   ]
  },
  {
   "cell_type": "code",
   "execution_count": null,
   "metadata": {
    "colab": {
     "base_uri": "https://localhost:8080/"
    },
    "id": "BweXvKgDw9V5",
    "outputId": "8e3100c4-26c5-464c-b378-22211719263c"
   },
   "outputs": [
    {
     "name": "stdout",
     "output_type": "stream",
     "text": [
      "Numerical Features:===========> ['national_inv', 'lead_time', 'in_transit_qty', 'forecast_3_month', 'forecast_6_month', 'forecast_9_month', 'sales_1_month', 'sales_3_month', 'sales_6_month', 'sales_9_month', 'min_bank', 'pieces_past_due', 'perf_6_month_avg', 'perf_12_month_avg', 'local_bo_qty']\n",
      "Categorical Features:===========> ['sku', 'potential_issue', 'deck_risk', 'oe_constraint', 'ppap_risk', 'stop_auto_buy', 'rev_stop', 'went_on_backorder']\n"
     ]
    }
   ],
   "source": [
    "# Filter the numerical feature columns\n",
    "\n",
    "numerical_feat = backorddf.columns[backorddf.dtypes != 'object'].to_list()\n",
    "categorical_feat = backorddf.columns[backorddf.dtypes == 'object'].to_list()\n",
    "print(\"Numerical Features:===========>\", numerical_feat)\n",
    "print(\"Categorical Features:===========>\", categorical_feat)"
   ]
  },
  {
   "cell_type": "code",
   "execution_count": null,
   "metadata": {
    "colab": {
     "base_uri": "https://localhost:8080/"
    },
    "id": "PVy8RROkxKOR",
    "outputId": "a37c642a-eaae-457d-bcf1-d72dea130703"
   },
   "outputs": [
    {
     "name": "stdout",
     "output_type": "stream",
     "text": [
      "national_inv ============> Int64Index([1687860, 242075], dtype='int64')\n",
      "in_transit_qty ============> Int64Index([1687860, 242075], dtype='int64')\n",
      "forecast_3_month ============> Int64Index([1687860, 242075], dtype='int64')\n",
      "forecast_6_month ============> Int64Index([1687860, 242075], dtype='int64')\n",
      "forecast_9_month ============> Int64Index([1687860, 242075], dtype='int64')\n",
      "sales_1_month ============> Int64Index([1687860, 242075], dtype='int64')\n",
      "sales_3_month ============> Int64Index([1687860, 242075], dtype='int64')\n",
      "sales_6_month ============> Int64Index([1687860, 242075], dtype='int64')\n",
      "sales_9_month ============> Int64Index([1687860, 242075], dtype='int64')\n",
      "min_bank ============> Int64Index([1687860, 242075], dtype='int64')\n",
      "potential_issue ============> Int64Index([1687860, 242075], dtype='int64')\n",
      "pieces_past_due ============> Int64Index([1687860, 242075], dtype='int64')\n",
      "perf_6_month_avg ============> Int64Index([1687860, 242075], dtype='int64')\n",
      "perf_12_month_avg ============> Int64Index([1687860, 242075], dtype='int64')\n",
      "local_bo_qty ============> Int64Index([1687860, 242075], dtype='int64')\n",
      "deck_risk ============> Int64Index([1687860, 242075], dtype='int64')\n",
      "oe_constraint ============> Int64Index([1687860, 242075], dtype='int64')\n",
      "ppap_risk ============> Int64Index([1687860, 242075], dtype='int64')\n",
      "stop_auto_buy ============> Int64Index([1687860, 242075], dtype='int64')\n",
      "rev_stop ============> Int64Index([1687860, 242075], dtype='int64')\n",
      "went_on_backorder ============> Int64Index([1687860, 242075], dtype='int64')\n"
     ]
    }
   ],
   "source": [
    "# Finding the Nul value Index for drop \n",
    "\n",
    "for x in NullValsCols(backorddf):\n",
    "  if x != 'lead_time':\n",
    "    print(x,\"============>\",backorddf[backorddf[x].isnull()].index)"
   ]
  },
  {
   "cell_type": "markdown",
   "metadata": {
    "id": "fEAJe_M7xdk3"
   },
   "source": [
    "Observation\n",
    "\n",
    "1. So that 1 Missing value over 22 feature index is last row. so we can drop that last row [1687860]"
   ]
  },
  {
   "cell_type": "code",
   "execution_count": null,
   "metadata": {
    "id": "pR7hHHn8xW22"
   },
   "outputs": [],
   "source": [
    "backorddf.drop(backorddf.index[[1687860, 242075]], inplace=True)"
   ]
  },
  {
   "cell_type": "code",
   "execution_count": null,
   "metadata": {
    "colab": {
     "base_uri": "https://localhost:8080/"
    },
    "id": "kHqtxe1nxi0J",
    "outputId": "0046655a-7bc0-42d8-93c9-56ff50646def"
   },
   "outputs": [
    {
     "data": {
      "text/plain": [
       "(1929934, 23)"
      ]
     },
     "execution_count": 43,
     "metadata": {
      "tags": []
     },
     "output_type": "execute_result"
    }
   ],
   "source": [
    "backorddf.shape"
   ]
  },
  {
   "cell_type": "code",
   "execution_count": null,
   "metadata": {
    "colab": {
     "base_uri": "https://localhost:8080/",
     "height": 80
    },
    "id": "NoqjFbh0xlMR",
    "outputId": "63a24f05-dee3-4d69-b2bc-e8b7d8a2c70f"
   },
   "outputs": [
    {
     "data": {
      "text/html": [
       "<div>\n",
       "<style scoped>\n",
       "    .dataframe tbody tr th:only-of-type {\n",
       "        vertical-align: middle;\n",
       "    }\n",
       "\n",
       "    .dataframe tbody tr th {\n",
       "        vertical-align: top;\n",
       "    }\n",
       "\n",
       "    .dataframe thead th {\n",
       "        text-align: right;\n",
       "    }\n",
       "</style>\n",
       "<table border=\"1\" class=\"dataframe\">\n",
       "  <thead>\n",
       "    <tr style=\"text-align: right;\">\n",
       "      <th></th>\n",
       "      <th>Total</th>\n",
       "      <th>Percentage(%)</th>\n",
       "    </tr>\n",
       "  </thead>\n",
       "  <tbody>\n",
       "    <tr>\n",
       "      <th>lead_time</th>\n",
       "      <td>115616</td>\n",
       "      <td>5.990671</td>\n",
       "    </tr>\n",
       "  </tbody>\n",
       "</table>\n",
       "</div>"
      ],
      "text/plain": [
       "            Total  Percentage(%)\n",
       "lead_time  115616       5.990671"
      ]
     },
     "execution_count": 44,
     "metadata": {
      "tags": []
     },
     "output_type": "execute_result"
    }
   ],
   "source": [
    "MissingValsPercent(backorddf)"
   ]
  },
  {
   "cell_type": "code",
   "execution_count": null,
   "metadata": {
    "id": "cSt2Viq9xpup"
   },
   "outputs": [],
   "source": [
    "backorddf['lead_time'] = backorddf.lead_time.fillna(backorddf.lead_time.median())"
   ]
  },
  {
   "cell_type": "markdown",
   "metadata": {
    "id": "6Sl9KmrFxw8T"
   },
   "source": [
    "Here the lead_time feature having high outlier skewed distribution. so we can use the Midian imputation for missing value"
   ]
  },
  {
   "cell_type": "code",
   "execution_count": null,
   "metadata": {
    "colab": {
     "base_uri": "https://localhost:8080/",
     "height": 49
    },
    "id": "_gUvCoYNxuX3",
    "outputId": "0c1d9f16-9815-4003-c401-ae925f1a8348"
   },
   "outputs": [
    {
     "data": {
      "text/html": [
       "<div>\n",
       "<style scoped>\n",
       "    .dataframe tbody tr th:only-of-type {\n",
       "        vertical-align: middle;\n",
       "    }\n",
       "\n",
       "    .dataframe tbody tr th {\n",
       "        vertical-align: top;\n",
       "    }\n",
       "\n",
       "    .dataframe thead th {\n",
       "        text-align: right;\n",
       "    }\n",
       "</style>\n",
       "<table border=\"1\" class=\"dataframe\">\n",
       "  <thead>\n",
       "    <tr style=\"text-align: right;\">\n",
       "      <th></th>\n",
       "      <th>Total</th>\n",
       "      <th>Percentage(%)</th>\n",
       "    </tr>\n",
       "  </thead>\n",
       "  <tbody>\n",
       "  </tbody>\n",
       "</table>\n",
       "</div>"
      ],
      "text/plain": [
       "Empty DataFrame\n",
       "Columns: [Total, Percentage(%)]\n",
       "Index: []"
      ]
     },
     "execution_count": 46,
     "metadata": {
      "tags": []
     },
     "output_type": "execute_result"
    }
   ],
   "source": [
    "MissingValsPercent(backorddf)"
   ]
  },
  {
   "cell_type": "markdown",
   "metadata": {
    "id": "c3Rfe_HGxvXI"
   },
   "source": [
    "Now there is no Missing Data in Dataset"
   ]
  },
  {
   "cell_type": "code",
   "execution_count": null,
   "metadata": {
    "id": "5f-db13Gytiz"
   },
   "outputs": [],
   "source": [
    "# Drop sku because we dont need unique identifier\n",
    "\n",
    "backorddf.drop('sku', axis=1, inplace=True)"
   ]
  },
  {
   "cell_type": "code",
   "execution_count": null,
   "metadata": {
    "colab": {
     "base_uri": "https://localhost:8080/"
    },
    "id": "_lhFSwCdzE4R",
    "outputId": "50cf6d71-91c9-48c1-fe94-7d70fee8be0b"
   },
   "outputs": [
    {
     "name": "stdout",
     "output_type": "stream",
     "text": [
      "potential_issue ================> ['No' 'Yes']\n",
      "deck_risk ================> ['No' 'Yes']\n",
      "oe_constraint ================> ['No' 'Yes']\n",
      "ppap_risk ================> ['No' 'Yes']\n",
      "stop_auto_buy ================> ['Yes' 'No']\n",
      "rev_stop ================> ['No' 'Yes']\n",
      "went_on_backorder ================> ['No' 'Yes']\n"
     ]
    }
   ],
   "source": [
    "# Handling the categorical Features\n",
    "\n",
    "for x in [x for x in categorical_feat if x != 'sku']:\n",
    "  print(x,\"================>\",backorddf[x].unique())"
   ]
  },
  {
   "cell_type": "markdown",
   "metadata": {
    "id": "1UFpJ4VK0_H2"
   },
   "source": [
    "Obeservations\n",
    "\n",
    "1. So the categorical features having only 2 category ['Yes', 'No']"
   ]
  },
  {
   "cell_type": "code",
   "execution_count": null,
   "metadata": {
    "id": "byejEKIE1LGD"
   },
   "outputs": [],
   "source": [
    "# Feature Engineering\n",
    "\n",
    "for x in categorical_feat:\n",
    "  if x != 'sku':\n",
    "    backorddf[x].replace({'Yes': 1, 'No': 0}, inplace=True)\n",
    "    backorddf[x].astype(int)"
   ]
  },
  {
   "cell_type": "markdown",
   "metadata": {
    "id": "HSvlC1Up1XwT"
   },
   "source": [
    "So now we encoded the categories like 'Yes' is 1 and 'No' is 0"
   ]
  },
  {
   "cell_type": "code",
   "execution_count": null,
   "metadata": {
    "colab": {
     "base_uri": "https://localhost:8080/"
    },
    "id": "PKU1szsTyPSj",
    "outputId": "59dfa450-67e6-437c-f340-f0d48589515d"
   },
   "outputs": [
    {
     "data": {
      "text/plain": [
       "0    1915953\n",
       "1      13981\n",
       "Name: went_on_backorder, dtype: int64"
      ]
     },
     "execution_count": 50,
     "metadata": {
      "tags": []
     },
     "output_type": "execute_result"
    }
   ],
   "source": [
    "# Checking the Imabalanced Data\n",
    "\n",
    "backorddf.went_on_backorder.value_counts()"
   ]
  },
  {
   "cell_type": "markdown",
   "metadata": {
    "id": "kL23dbplycwA"
   },
   "source": [
    "Observation \n",
    "\n",
    "1. So above data this dataset is highly imbalanced"
   ]
  },
  {
   "cell_type": "code",
   "execution_count": null,
   "metadata": {
    "id": "1SXMllj_yba-"
   },
   "outputs": [],
   "source": [
    "# Imbalanced Data Handling \n",
    "# we have to undersample the data\n",
    "\n",
    "\n",
    "from imblearn.under_sampling import NearMiss\n",
    "\n",
    "# Implementing Undersampling for Handling Imbalanced \n",
    "nm = NearMiss()#NearMiss do not take random_state arguement \n",
    "X,y = nm.fit_sample(backorddf[[x for x in backorddf.columns.to_list() if x != 'went_on_backorder']],backorddf['went_on_backorder'])"
   ]
  },
  {
   "cell_type": "markdown",
   "metadata": {
    "id": "kTOlEZ5t17uf"
   },
   "source": [
    "We are undersampled the dataset for balancing the Dataset"
   ]
  },
  {
   "cell_type": "code",
   "execution_count": null,
   "metadata": {
    "id": "Y6911_a210kG"
   },
   "outputs": [],
   "source": [
    "# Combine X,y to Dataframe for further processing\n",
    "\n",
    "import numpy as np\n",
    "\n",
    "def ConvertToDf(X,y, x_cols=[], y_cols=''):\n",
    "  dfs = pd.DataFrame(data = X, columns = x_cols)\n",
    "  dfs_1 = pd.DataFrame(data=y, columns=[y_cols])\n",
    "  return pd.concat([dfs, dfs_1], axis=1)\n",
    "\n",
    "x_cols = [x for x in backorddf.columns.to_list() if x != 'went_on_backorder']\n",
    "y_cols = 'went_on_backorder'\n",
    "\n",
    "newBackordDf = ConvertToDf(X, y, x_cols, y_cols)"
   ]
  },
  {
   "cell_type": "code",
   "execution_count": null,
   "metadata": {
    "colab": {
     "base_uri": "https://localhost:8080/"
    },
    "id": "yERhQ9fK2ZRf",
    "outputId": "aee3ef93-befc-4f82-a1ba-717130712399"
   },
   "outputs": [
    {
     "data": {
      "text/plain": [
       "(27962, 22)"
      ]
     },
     "execution_count": 53,
     "metadata": {
      "tags": []
     },
     "output_type": "execute_result"
    }
   ],
   "source": [
    "newBackordDf.shape"
   ]
  },
  {
   "cell_type": "code",
   "execution_count": null,
   "metadata": {
    "colab": {
     "base_uri": "https://localhost:8080/"
    },
    "id": "WzHx27UG2bxg",
    "outputId": "f0ecb6a1-ed6a-4d42-92f9-8d0fbfcc20d9"
   },
   "outputs": [
    {
     "data": {
      "text/plain": [
       "1    13981\n",
       "0    13981\n",
       "Name: went_on_backorder, dtype: int64"
      ]
     },
     "execution_count": 54,
     "metadata": {
      "tags": []
     },
     "output_type": "execute_result"
    }
   ],
   "source": [
    "newBackordDf.went_on_backorder.value_counts()"
   ]
  },
  {
   "cell_type": "markdown",
   "metadata": {
    "id": "qXGoNQ_r2heG"
   },
   "source": [
    "So now We got the Balanced dataset"
   ]
  },
  {
   "cell_type": "code",
   "execution_count": null,
   "metadata": {
    "id": "bw_d8G3rNkYa"
   },
   "outputs": [],
   "source": [
    "# Save the Preprocessed dataset\n",
    "\n",
    "newBackordDf.to_csv('preprocessed.csv')"
   ]
  },
  {
   "cell_type": "code",
   "execution_count": null,
   "metadata": {
    "colab": {
     "base_uri": "https://localhost:8080/",
     "height": 793
    },
    "id": "hZ6Z0Rfz2vkL",
    "outputId": "0bed17bb-37a5-4a00-88fb-b7338b86c99b"
   },
   "outputs": [
    {
     "data": {
      "image/png": "[encoded data removed]",
      "text/plain": [
       "<Figure size 1440x864 with 2 Axes>"
      ]
     },
     "metadata": {
      "needs_background": "light",
      "tags": []
     },
     "output_type": "display_data"
    }
   ],
   "source": [
    "# Check the Correlation\n",
    "\n",
    "plt.figure(figsize=(20,12))\n",
    "sns.heatmap(newBackordDf.corr(), annot=True, cmap=\"YlGnBu\")\n",
    "plt.show()"
   ]
  },
  {
   "cell_type": "code",
   "execution_count": null,
   "metadata": {
    "id": "yCLFCZYW2e_H"
   },
   "outputs": [],
   "source": [
    "# Checking the Correlation between Independant features\n",
    "\n",
    "def PearsonCorrelation(data=None, thersold=0.5):\n",
    "  cor_col = set()\n",
    "  corr_matrix = data.corr()\n",
    "  for i in range(len(corr_matrix.columns)):\n",
    "    for j in range(i):\n",
    "      if abs(corr_matrix.iloc[i,j]) > thersold:\n",
    "        cor_col.add(corr_matrix.columns[i])\n",
    "  return cor_col"
   ]
  },
  {
   "cell_type": "code",
   "execution_count": null,
   "metadata": {
    "colab": {
     "base_uri": "https://localhost:8080/"
    },
    "id": "rdf6SkXE2_gj",
    "outputId": "299ce246-10ad-4142-acda-8723484d8994"
   },
   "outputs": [
    {
     "data": {
      "text/plain": [
       "{'deck_risk',\n",
       " 'forecast_6_month',\n",
       " 'forecast_9_month',\n",
       " 'local_bo_qty',\n",
       " 'min_bank',\n",
       " 'perf_12_month_avg',\n",
       " 'pieces_past_due',\n",
       " 'ppap_risk',\n",
       " 'sales_1_month',\n",
       " 'sales_3_month',\n",
       " 'sales_6_month',\n",
       " 'sales_9_month',\n",
       " 'went_on_backorder'}"
      ]
     },
     "execution_count": 57,
     "metadata": {
      "tags": []
     },
     "output_type": "execute_result"
    }
   ],
   "source": [
    "PearsonCorrelation(newBackordDf, 0.25)"
   ]
  },
  {
   "cell_type": "markdown",
   "metadata": {
    "id": "cZGknrS83Eq2"
   },
   "source": [
    "Obeservations\n",
    "\n",
    "1. I am selecting a correlation thersold is 0.25 above and selecting those above thersold correlation features"
   ]
  },
  {
   "cell_type": "code",
   "execution_count": null,
   "metadata": {
    "colab": {
     "base_uri": "https://localhost:8080/",
     "height": 359
    },
    "id": "nxx2PPSs3DOE",
    "outputId": "fc04f532-085b-4810-db47-44add1d69e55"
   },
   "outputs": [
    {
     "data": {
      "text/html": [
       "<div>\n",
       "<style scoped>\n",
       "    .dataframe tbody tr th:only-of-type {\n",
       "        vertical-align: middle;\n",
       "    }\n",
       "\n",
       "    .dataframe tbody tr th {\n",
       "        vertical-align: top;\n",
       "    }\n",
       "\n",
       "    .dataframe thead th {\n",
       "        text-align: right;\n",
       "    }\n",
       "</style>\n",
       "<table border=\"1\" class=\"dataframe\">\n",
       "  <thead>\n",
       "    <tr style=\"text-align: right;\">\n",
       "      <th></th>\n",
       "      <th>Specs</th>\n",
       "      <th>Score</th>\n",
       "    </tr>\n",
       "  </thead>\n",
       "  <tbody>\n",
       "    <tr>\n",
       "      <th>0</th>\n",
       "      <td>national_inv</td>\n",
       "      <td>0.235911</td>\n",
       "    </tr>\n",
       "    <tr>\n",
       "      <th>3</th>\n",
       "      <td>forecast_3_month</td>\n",
       "      <td>0.387754</td>\n",
       "    </tr>\n",
       "    <tr>\n",
       "      <th>4</th>\n",
       "      <td>forecast_6_month</td>\n",
       "      <td>0.420863</td>\n",
       "    </tr>\n",
       "    <tr>\n",
       "      <th>5</th>\n",
       "      <td>forecast_9_month</td>\n",
       "      <td>0.435650</td>\n",
       "    </tr>\n",
       "    <tr>\n",
       "      <th>6</th>\n",
       "      <td>sales_1_month</td>\n",
       "      <td>0.361213</td>\n",
       "    </tr>\n",
       "    <tr>\n",
       "      <th>7</th>\n",
       "      <td>sales_3_month</td>\n",
       "      <td>0.446555</td>\n",
       "    </tr>\n",
       "    <tr>\n",
       "      <th>8</th>\n",
       "      <td>sales_6_month</td>\n",
       "      <td>0.472152</td>\n",
       "    </tr>\n",
       "    <tr>\n",
       "      <th>9</th>\n",
       "      <td>sales_9_month</td>\n",
       "      <td>0.479556</td>\n",
       "    </tr>\n",
       "    <tr>\n",
       "      <th>13</th>\n",
       "      <td>perf_6_month_avg</td>\n",
       "      <td>0.393250</td>\n",
       "    </tr>\n",
       "    <tr>\n",
       "      <th>14</th>\n",
       "      <td>perf_12_month_avg</td>\n",
       "      <td>0.415694</td>\n",
       "    </tr>\n",
       "  </tbody>\n",
       "</table>\n",
       "</div>"
      ],
      "text/plain": [
       "                Specs     Score\n",
       "0        national_inv  0.235911\n",
       "3    forecast_3_month  0.387754\n",
       "4    forecast_6_month  0.420863\n",
       "5    forecast_9_month  0.435650\n",
       "6       sales_1_month  0.361213\n",
       "7       sales_3_month  0.446555\n",
       "8       sales_6_month  0.472152\n",
       "9       sales_9_month  0.479556\n",
       "13   perf_6_month_avg  0.393250\n",
       "14  perf_12_month_avg  0.415694"
      ]
     },
     "execution_count": 59,
     "metadata": {
      "tags": []
     },
     "output_type": "execute_result"
    }
   ],
   "source": [
    "# Checking The Information Gain for the features\n",
    "\n",
    "\"\"\"\n",
    "IG calculates the importance of each feature by measuring the increase in entropy when the feature is given vs. absent.\n",
    "\n",
    "Algorithm: IG(S, a) = H(S) — H(S | a) Where IG(S, a) is the information for the dataset S for the variable a for a random variable, \n",
    "H(S) is the entropy for the dataset before any change (described above) and H(S | a) is the conditional entropy for the dataset in \n",
    "the presence of variable a.\n",
    "\"\"\"\n",
    "\n",
    "from sklearn.feature_selection import SelectKBest\n",
    "from sklearn.feature_selection import mutual_info_classif\n",
    "\n",
    "def FeatureInfoGain(X, y, score, no_need_feat):\n",
    "  bestfeatures = SelectKBest(score_func=mutual_info_classif, k=no_need_feat) # n is number of features you want to select\n",
    "  fit = bestfeatures.fit(X,y)\n",
    "  dfscores = pd.DataFrame(fit.scores_)\n",
    "  dfcolumns = pd.DataFrame(X.columns)\n",
    "  featureScores = pd.concat([dfcolumns,dfscores],axis=1)\n",
    "  featureScores.columns = ['Specs','Score']\n",
    "  return featureScores[featureScores.Score > score]\n",
    "\n",
    "X = newBackordDf[[x for x in newBackordDf.columns.to_list() if x != 'went_on_backorder']]\n",
    "y = newBackordDf['went_on_backorder']\n",
    "\n",
    "FeatureInfoGain(X, y, 0.2, 6)"
   ]
  },
  {
   "cell_type": "markdown",
   "metadata": {
    "id": "i9CO_Npy4rT4"
   },
   "source": [
    "1. If we use the Tree based Classification Algo we can use this technique to get the bset features based on the score."
   ]
  },
  {
   "cell_type": "code",
   "execution_count": null,
   "metadata": {
    "id": "8w0IkecE3i43"
   },
   "outputs": [],
   "source": [
    "''' Seleting the features'''\n",
    "\n",
    "predictors = ['forecast_6_month', 'forecast_9_month','sales_3_month', 'national_inv','sales_6_month',\n",
    "              'sales_9_month', 'perf_6_month_avg','perf_12_month_avg', 'forecast_3_month']\n",
    "target_c = 'went_on_backorder'"
   ]
  },
  {
   "cell_type": "markdown",
   "metadata": {
    "id": "_dTO72og5a9q"
   },
   "source": [
    "As per Infogain and Correlation. i have selected 9 predictors"
   ]
  },
  {
   "cell_type": "code",
   "execution_count": null,
   "metadata": {
    "colab": {
     "base_uri": "https://localhost:8080/",
     "height": 328
    },
    "id": "osvmsg8w56ZV",
    "outputId": "176d2abb-3841-4741-ec54-95454b2af5ab"
   },
   "outputs": [
    {
     "data": {
      "text/html": [
       "<div>\n",
       "<style scoped>\n",
       "    .dataframe tbody tr th:only-of-type {\n",
       "        vertical-align: middle;\n",
       "    }\n",
       "\n",
       "    .dataframe tbody tr th {\n",
       "        vertical-align: top;\n",
       "    }\n",
       "\n",
       "    .dataframe thead th {\n",
       "        text-align: right;\n",
       "    }\n",
       "</style>\n",
       "<table border=\"1\" class=\"dataframe\">\n",
       "  <thead>\n",
       "    <tr style=\"text-align: right;\">\n",
       "      <th></th>\n",
       "      <th>Outliers Total</th>\n",
       "      <th>Percentage(%)</th>\n",
       "    </tr>\n",
       "  </thead>\n",
       "  <tbody>\n",
       "    <tr>\n",
       "      <th>forecast_6_month</th>\n",
       "      <td>4326</td>\n",
       "      <td>15.470996</td>\n",
       "    </tr>\n",
       "    <tr>\n",
       "      <th>forecast_9_month</th>\n",
       "      <td>4313</td>\n",
       "      <td>15.424505</td>\n",
       "    </tr>\n",
       "    <tr>\n",
       "      <th>national_inv</th>\n",
       "      <td>4295</td>\n",
       "      <td>15.360132</td>\n",
       "    </tr>\n",
       "    <tr>\n",
       "      <th>sales_9_month</th>\n",
       "      <td>4242</td>\n",
       "      <td>15.170589</td>\n",
       "    </tr>\n",
       "    <tr>\n",
       "      <th>forecast_3_month</th>\n",
       "      <td>4106</td>\n",
       "      <td>14.684214</td>\n",
       "    </tr>\n",
       "    <tr>\n",
       "      <th>sales_6_month</th>\n",
       "      <td>4065</td>\n",
       "      <td>14.537587</td>\n",
       "    </tr>\n",
       "    <tr>\n",
       "      <th>sales_3_month</th>\n",
       "      <td>4019</td>\n",
       "      <td>14.373078</td>\n",
       "    </tr>\n",
       "    <tr>\n",
       "      <th>perf_12_month_avg</th>\n",
       "      <td>0</td>\n",
       "      <td>0.000000</td>\n",
       "    </tr>\n",
       "    <tr>\n",
       "      <th>perf_6_month_avg</th>\n",
       "      <td>0</td>\n",
       "      <td>0.000000</td>\n",
       "    </tr>\n",
       "  </tbody>\n",
       "</table>\n",
       "</div>"
      ],
      "text/plain": [
       "                   Outliers Total  Percentage(%)\n",
       "forecast_6_month             4326      15.470996\n",
       "forecast_9_month             4313      15.424505\n",
       "national_inv                 4295      15.360132\n",
       "sales_9_month                4242      15.170589\n",
       "forecast_3_month             4106      14.684214\n",
       "sales_6_month                4065      14.537587\n",
       "sales_3_month                4019      14.373078\n",
       "perf_12_month_avg               0       0.000000\n",
       "perf_6_month_avg                0       0.000000"
      ]
     },
     "execution_count": 61,
     "metadata": {
      "tags": []
     },
     "output_type": "execute_result"
    }
   ],
   "source": [
    "def OutlierRatio(df):\n",
    "  q1 = df.quantile(0.25)\n",
    "  q3 = df.quantile(0.75)\n",
    "  IQR = q3 - q1\n",
    "  total_outliers = ((df < (q1 - 1.5 * IQR)) | (df > (q3 + 1.5 * IQR))).sum().sort_values(ascending=False)\n",
    "  total_outl_per = ((total_outliers/ ((df < (q1 - 1.5 * IQR)) | (df > (q3 + 1.5 * IQR))).count()) * 100).sort_values(ascending=False)\n",
    "  return pd.concat([total_outliers, total_outl_per], axis=1, keys=['Outliers Total', 'Percentage(%)'])\n",
    "\n",
    "OutlierRatio(newBackordDf[predictors]).head(17)"
   ]
  },
  {
   "cell_type": "markdown",
   "metadata": {
    "id": "6WaaHxEh7V3l"
   },
   "source": [
    "We need to scaling the Outlier datas .so we can apply the Robust Scalar"
   ]
  },
  {
   "cell_type": "code",
   "execution_count": null,
   "metadata": {
    "id": "ipLgpmbM6NQp"
   },
   "outputs": [],
   "source": [
    "from sklearn.preprocessing import RobustScaler\n",
    "from sklearn.model_selection import train_test_split\n",
    "\n",
    "X_train,x_test,Y_train,y_test = train_test_split(newBackordDf[predictors], newBackordDf[target_c], test_size=0.3, random_state=7)\n",
    "\n",
    "transformer = RobustScaler().fit(X_train)\n",
    "X_train = transformer.transform(X_train)\n",
    "x_test = transformer.transform(x_test)"
   ]
  },
  {
   "cell_type": "markdown",
   "metadata": {
    "id": "ifibvhAW9D0t"
   },
   "source": [
    "In Robust scaling every values is scaled as below.\n",
    "\n",
    "1. Values = (value — median)/(75th percentile value — 25th percentile value)\n",
    "This approach standardizes the data with out considering outliers while scaling the data.\n"
   ]
  },
  {
   "cell_type": "code",
   "execution_count": null,
   "metadata": {
    "id": "WwQhHkds8DB-"
   },
   "outputs": [],
   "source": [
    "try:\n",
    "  from sklearn.metrics import make_scorer, f1_score, accuracy_score, precision_score, recall_score\n",
    "  from sklearn.model_selection import cross_validate \n",
    "  from sklearn.linear_model import LogisticRegression\n",
    "  from sklearn.svm import LinearSVC\n",
    "  from sklearn.tree import DecisionTreeClassifier\n",
    "  from sklearn.ensemble import RandomForestClassifier, AdaBoostClassifier\n",
    "  from sklearn.neighbors import KNeighborsClassifier\n",
    "  from sklearn.naive_bayes import GaussianNB\n",
    "  from xgboost import XGBClassifier\n",
    "except Exception as e:\n",
    "  raise str(e)\n",
    "\n",
    "class EvalModel:\n",
    "  def __init__(self, x=None, y=None, fold=5):\n",
    "    self._x = x\n",
    "    self._y = y\n",
    "    self._fold = fold \n",
    "    self._clstree = {'logreg': LogisticRegression, 'svm': LinearSVC,\n",
    "                     'dsctree': DecisionTreeClassifier, 'rndfclf': RandomForestClassifier, \n",
    "                     'adabst': AdaBoostClassifier, 'nvbys': GaussianNB,\n",
    "                     'knn': KNeighborsClassifier, 'xgbst': XGBClassifier}\n",
    "    self._scoring = {'accuracy':make_scorer(accuracy_score), \n",
    "           'precision':make_scorer(precision_score),\n",
    "           'recall':make_scorer(recall_score), \n",
    "           'f1_score':make_scorer(f1_score)}\n",
    "\n",
    "  @staticmethod\n",
    "  def _has_classifier():\n",
    "    return ['logreg', 'svm', 'dsctree', 'rndfclf', 'nvbys', 'adabst', 'knn', 'xgbst']\n",
    "\n",
    "  def _has_classifier_names(self, name):\n",
    "    return {\n",
    "        'logreg': 'Logistic Regression',\n",
    "        'svm': 'Support Vector Classifier',\n",
    "        'dsctree': 'Decision Tree',\n",
    "        'rndfclf':'Random Forest',\n",
    "        'nvbys':'Gaussian Naive Bayes',\n",
    "        'adabst': 'AdaBoost Classifier',\n",
    "        'knn': 'KNearest Classifier',\n",
    "        'xgbst': 'XGBoost Classifier'\n",
    "    }.get(name)\n",
    "\n",
    "  def _perform_validate(self,nmdl=[]):\n",
    "    models_scores_table = {}\n",
    "    try:\n",
    "      for x in nmdl:\n",
    "        if x not in self._has_classifier():\n",
    "          return \"{x} - key of Classifier Not Available. so please execute _has_classifier_names() method to see available classifiers\".format(x=x)\n",
    "        validated_obj = self._cross_validate(self._clstree.get(x)())\n",
    "        models_scores_table.update({\n",
    "            self._has_classifier_names(x) : [\n",
    "                                            validated_obj['test_accuracy'].mean(),\n",
    "                                            validated_obj['test_precision'].mean(),\n",
    "                                            validated_obj['test_recall'].mean(),\n",
    "                                            validated_obj['test_f1_score'].mean()                \n",
    "                                    ]\n",
    "        })\n",
    "      models_scores_table = pd.DataFrame(models_scores_table, index=['Accuracy', 'Precision', 'Recall', 'F1 Score'])\n",
    "\n",
    "      #Add 'Best Score' column\n",
    "      models_scores_table['Best Score'] = models_scores_table.idxmax(axis=1)\n",
    "    \n",
    "      # Return models performance metrics scores data frame\n",
    "      return models_scores_table\n",
    "    except Exception as e:\n",
    "      raise str(e)\n",
    "\n",
    "  def _cross_validate(self, model):\n",
    "    return cross_validate(model, self._x, self._y, scoring=self._scoring, cv=self._fold)"
   ]
  },
  {
   "cell_type": "code",
   "execution_count": null,
   "metadata": {
    "colab": {
     "base_uri": "https://localhost:8080/"
    },
    "id": "0QCsv26A-r3M",
    "outputId": "83d0e657-e5ec-4710-cf3d-61ad18b714ae"
   },
   "outputs": [
    {
     "data": {
      "text/plain": [
       "['logreg', 'svm', 'dsctree', 'rndfclf', 'nvbys', 'adabst', 'knn', 'xgbst']"
      ]
     },
     "execution_count": 64,
     "metadata": {
      "tags": []
     },
     "output_type": "execute_result"
    }
   ],
   "source": [
    "EvalModel._has_classifier()"
   ]
  },
  {
   "cell_type": "markdown",
   "metadata": {
    "id": "iLzxa1iP-x5Q"
   },
   "source": [
    "Available Models for checking what is the best model\n",
    "\n",
    "If you want select Model just pass their releated keys as a list to _perform_validate(['knn']) method\n",
    "\n",
    "{\n",
    "        'logreg': 'Logistic Regression',\n",
    "        'svm': 'Support Vector Classifier',\n",
    "        'dsctree': 'Decision Tree',\n",
    "        'rndfclf':'Random Forest',\n",
    "        'nvbys':'Gaussian Naive Bayes',\n",
    "        'adabst': 'AdaBoost Classifier',\n",
    "        'knn': 'KNearest Classifier',\n",
    "        'xgbst': 'XGBoost Classifier'\n",
    "    }"
   ]
  },
  {
   "cell_type": "code",
   "execution_count": null,
   "metadata": {
    "colab": {
     "base_uri": "https://localhost:8080/",
     "height": 173
    },
    "id": "H7QzH-8X9ZBI",
    "outputId": "95d968ef-b804-428f-e6e0-d19bbbe19596"
   },
   "outputs": [
    {
     "data": {
      "text/html": [
       "<div>\n",
       "<style scoped>\n",
       "    .dataframe tbody tr th:only-of-type {\n",
       "        vertical-align: middle;\n",
       "    }\n",
       "\n",
       "    .dataframe tbody tr th {\n",
       "        vertical-align: top;\n",
       "    }\n",
       "\n",
       "    .dataframe thead th {\n",
       "        text-align: right;\n",
       "    }\n",
       "</style>\n",
       "<table border=\"1\" class=\"dataframe\">\n",
       "  <thead>\n",
       "    <tr style=\"text-align: right;\">\n",
       "      <th></th>\n",
       "      <th>Logistic Regression</th>\n",
       "      <th>XGBoost Classifier</th>\n",
       "      <th>Support Vector Classifier</th>\n",
       "      <th>Random Forest</th>\n",
       "      <th>KNearest Classifier</th>\n",
       "      <th>Gaussian Naive Bayes</th>\n",
       "      <th>Best Score</th>\n",
       "    </tr>\n",
       "  </thead>\n",
       "  <tbody>\n",
       "    <tr>\n",
       "      <th>Accuracy</th>\n",
       "      <td>0.941960</td>\n",
       "      <td>0.972819</td>\n",
       "      <td>0.945435</td>\n",
       "      <td>0.983600</td>\n",
       "      <td>0.978644</td>\n",
       "      <td>0.935421</td>\n",
       "      <td>Random Forest</td>\n",
       "    </tr>\n",
       "    <tr>\n",
       "      <th>Precision</th>\n",
       "      <td>0.989575</td>\n",
       "      <td>0.985004</td>\n",
       "      <td>0.991883</td>\n",
       "      <td>0.994982</td>\n",
       "      <td>0.992221</td>\n",
       "      <td>0.983982</td>\n",
       "      <td>Random Forest</td>\n",
       "    </tr>\n",
       "    <tr>\n",
       "      <th>Recall</th>\n",
       "      <td>0.893252</td>\n",
       "      <td>0.960225</td>\n",
       "      <td>0.898160</td>\n",
       "      <td>0.972086</td>\n",
       "      <td>0.964826</td>\n",
       "      <td>0.885174</td>\n",
       "      <td>Random Forest</td>\n",
       "    </tr>\n",
       "    <tr>\n",
       "      <th>F1 Score</th>\n",
       "      <td>0.938937</td>\n",
       "      <td>0.972445</td>\n",
       "      <td>0.942686</td>\n",
       "      <td>0.983391</td>\n",
       "      <td>0.978320</td>\n",
       "      <td>0.931943</td>\n",
       "      <td>Random Forest</td>\n",
       "    </tr>\n",
       "  </tbody>\n",
       "</table>\n",
       "</div>"
      ],
      "text/plain": [
       "           Logistic Regression  XGBoost Classifier  Support Vector Classifier  \\\n",
       "Accuracy              0.941960            0.972819                   0.945435   \n",
       "Precision             0.989575            0.985004                   0.991883   \n",
       "Recall                0.893252            0.960225                   0.898160   \n",
       "F1 Score              0.938937            0.972445                   0.942686   \n",
       "\n",
       "           Random Forest  KNearest Classifier  Gaussian Naive Bayes  \\\n",
       "Accuracy        0.983600             0.978644              0.935421   \n",
       "Precision       0.994982             0.992221              0.983982   \n",
       "Recall          0.972086             0.964826              0.885174   \n",
       "F1 Score        0.983391             0.978320              0.931943   \n",
       "\n",
       "              Best Score  \n",
       "Accuracy   Random Forest  \n",
       "Precision  Random Forest  \n",
       "Recall     Random Forest  \n",
       "F1 Score   Random Forest  "
      ]
     },
     "execution_count": 65,
     "metadata": {
      "tags": []
     },
     "output_type": "execute_result"
    }
   ],
   "source": [
    "EvalModel(X_train, Y_train, 10)._perform_validate(['logreg', 'xgbst', 'svm', 'rndfclf', 'knn', 'nvbys'])"
   ]
  },
  {
   "cell_type": "markdown",
   "metadata": {
    "id": "TThFTXOI_4Lg"
   },
   "source": [
    "Observations\n",
    "\n",
    "1. As per i am selected Logesstic Regression, XGBoost, SVM, Randomforest, Knearesr, Naivebayes for Model Selection the Randomforest is better than other remaining."
   ]
  },
  {
   "cell_type": "code",
   "execution_count": null,
   "metadata": {
    "colab": {
     "base_uri": "https://localhost:8080/"
    },
    "id": "49xpTiqo-9d2",
    "outputId": "08dadd65-2bd5-49b7-89ea-88869aa6f9b8"
   },
   "outputs": [
    {
     "name": "stdout",
     "output_type": "stream",
     "text": [
      "Fitting 2 folds for each of 10 candidates, totalling 20 fits\n"
     ]
    },
    {
     "name": "stderr",
     "output_type": "stream",
     "text": [
      "[Parallel(n_jobs=20)]: Using backend LokyBackend with 20 concurrent workers.\n",
      "[Parallel(n_jobs=20)]: Done   3 out of  20 | elapsed:   30.2s remaining:  2.9min\n",
      "[Parallel(n_jobs=20)]: Done  14 out of  20 | elapsed:  2.1min remaining:   53.9s\n",
      "[Parallel(n_jobs=20)]: Done  20 out of  20 | elapsed:  2.2min finished\n"
     ]
    },
    {
     "data": {
      "text/plain": [
       "RandomizedSearchCV(cv=2, error_score=nan,\n",
       "                   estimator=RandomForestClassifier(bootstrap=True,\n",
       "                                                    ccp_alpha=0.0,\n",
       "                                                    class_weight=None,\n",
       "                                                    criterion='gini',\n",
       "                                                    max_depth=None,\n",
       "                                                    max_features='auto',\n",
       "                                                    max_leaf_nodes=None,\n",
       "                                                    max_samples=None,\n",
       "                                                    min_impurity_decrease=0.0,\n",
       "                                                    min_impurity_split=None,\n",
       "                                                    min_samples_leaf=1,\n",
       "                                                    min_samples_split=2,\n",
       "                                                    min_weight_fraction_leaf=0.0,\n",
       "                                                    n_estimators=100,\n",
       "                                                    n_jobs...\n",
       "                   param_distributions={'criterion': ['entropy', 'gini'],\n",
       "                                        'max_depth': [10, 120, 230, 340, 450,\n",
       "                                                      560, 670, 780, 890,\n",
       "                                                      1000],\n",
       "                                        'max_features': ['auto', 'sqrt',\n",
       "                                                         'log2'],\n",
       "                                        'min_samples_leaf': [1, 2, 4, 6, 8],\n",
       "                                        'min_samples_split': [2, 5, 10, 14],\n",
       "                                        'n_estimators': [200, 400, 600, 800,\n",
       "                                                         1000, 1200, 1400, 1600,\n",
       "                                                         1800, 2000]},\n",
       "                   pre_dispatch='2*n_jobs', random_state=100, refit=True,\n",
       "                   return_train_score=False, scoring=None, verbose=2)"
      ]
     },
     "execution_count": 66,
     "metadata": {
      "tags": []
     },
     "output_type": "execute_result"
    }
   ],
   "source": [
    "\n",
    "## Hyper Parameter Optimization\n",
    "\n",
    "# Number of trees in random forest\n",
    "n_estimators = [int(x) for x in np.linspace(start = 200, stop = 2000, num = 10)]\n",
    "# Number of features to consider at every split\n",
    "max_features = ['auto', 'sqrt','log2']\n",
    "# Maximum number of levels in tree\n",
    "max_depth = [int(x) for x in np.linspace(10,1000,10)]\n",
    "# Minimum number of samples required to split a node\n",
    "min_samples_split = [2, 5, 10,14]\n",
    "# Minimum number of samples required at each leaf node\n",
    "min_samples_leaf = [1, 2, 4,6,8]\n",
    "# Create the random grid\n",
    "random_grid = {'n_estimators': n_estimators,\n",
    "               'max_features': max_features,\n",
    "               'max_depth': max_depth,\n",
    "               'min_samples_split': min_samples_split,\n",
    "               'min_samples_leaf': min_samples_leaf,\n",
    "              'criterion':['entropy','gini']}\n",
    "\n",
    "\n",
    "## Hyperparameter optimization using RandomizedSearchCV\n",
    "from sklearn.model_selection import RandomizedSearchCV, GridSearchCV\n",
    "# from xgboost import XGBClassifier\n",
    "\n",
    "rf=RandomForestClassifier()\n",
    "rf_randomcv=RandomizedSearchCV(estimator=rf,param_distributions=random_grid,n_iter=10,cv=2,verbose=2,\n",
    "                               random_state=100,n_jobs=20)\n",
    "### fit the randomized model\n",
    "rf_randomcv.fit(X_train,Y_train)"
   ]
  },
  {
   "cell_type": "code",
   "execution_count": null,
   "metadata": {
    "colab": {
     "base_uri": "https://localhost:8080/"
    },
    "id": "V88pZptWA_Cs",
    "outputId": "6410ff35-5ef5-432f-b6cc-b5ec15a6035e"
   },
   "outputs": [
    {
     "data": {
      "text/plain": [
       "RandomForestClassifier(bootstrap=True, ccp_alpha=0.0, class_weight=None,\n",
       "                       criterion='entropy', max_depth=120, max_features='sqrt',\n",
       "                       max_leaf_nodes=None, max_samples=None,\n",
       "                       min_impurity_decrease=0.0, min_impurity_split=None,\n",
       "                       min_samples_leaf=1, min_samples_split=2,\n",
       "                       min_weight_fraction_leaf=0.0, n_estimators=600,\n",
       "                       n_jobs=None, oob_score=False, random_state=None,\n",
       "                       verbose=0, warm_start=False)"
      ]
     },
     "execution_count": 67,
     "metadata": {
      "tags": []
     },
     "output_type": "execute_result"
    }
   ],
   "source": [
    "rf_randomcv.best_estimator_"
   ]
  },
  {
   "cell_type": "code",
   "execution_count": null,
   "metadata": {
    "colab": {
     "base_uri": "https://localhost:8080/"
    },
    "id": "-9W5WzmOBaei",
    "outputId": "a9bffda7-61e0-4847-c37c-9e0a67ece37f"
   },
   "outputs": [
    {
     "name": "stderr",
     "output_type": "stream",
     "text": [
      "[Parallel(n_jobs=1)]: Using backend SequentialBackend with 1 concurrent workers.\n",
      "[Parallel(n_jobs=1)]: Done   1 out of   1 | elapsed:    0.0s remaining:    0.0s\n",
      "[Parallel(n_jobs=1)]: Done   2 out of   2 | elapsed:    0.0s remaining:    0.0s\n"
     ]
    },
    {
     "name": "stdout",
     "output_type": "stream",
     "text": [
      "building tree 1 of 600\n",
      "building tree 2 of 600\n",
      "building tree 3 of 600\n",
      "building tree 4 of 600\n",
      "building tree 5 of 600\n",
      "building tree 6 of 600\n",
      "building tree 7 of 600\n",
      "building tree 8 of 600\n",
      "building tree 9 of 600\n",
      "building tree 10 of 600\n",
      "building tree 11 of 600\n",
      "building tree 12 of 600\n",
      "building tree 13 of 600\n",
      "building tree 14 of 600\n",
      "building tree 15 of 600\n",
      "building tree 16 of 600\n",
      "building tree 17 of 600\n",
      "building tree 18 of 600\n",
      "building tree 19 of 600\n",
      "building tree 20 of 600\n",
      "building tree 21 of 600\n",
      "building tree 22 of 600\n",
      "building tree 23 of 600\n",
      "building tree 24 of 600\n",
      "building tree 25 of 600\n",
      "building tree 26 of 600\n",
      "building tree 27 of 600\n",
      "building tree 28 of 600\n",
      "building tree 29 of 600\n",
      "building tree 30 of 600\n",
      "building tree 31 of 600\n",
      "building tree 32 of 600\n",
      "building tree 33 of 600\n",
      "building tree 34 of 600\n",
      "building tree 35 of 600\n",
      "building tree 36 of 600\n",
      "building tree 37 of 600\n",
      "building tree 38 of 600\n",
      "building tree 39 of 600\n",
      "building tree 40 of 600\n",
      "building tree 41 of 600\n",
      "building tree 42 of 600\n",
      "building tree 43 of 600\n",
      "building tree 44 of 600\n",
      "building tree 45 of 600\n",
      "building tree 46 of 600\n",
      "building tree 47 of 600\n",
      "building tree 48 of 600\n",
      "building tree 49 of 600\n",
      "building tree 50 of 600\n",
      "building tree 51 of 600\n",
      "building tree 52 of 600\n",
      "building tree 53 of 600\n",
      "building tree 54 of 600\n",
      "building tree 55 of 600\n",
      "building tree 56 of 600\n",
      "building tree 57 of 600\n",
      "building tree 58 of 600\n",
      "building tree 59 of 600\n",
      "building tree 60 of 600\n",
      "building tree 61 of 600\n",
      "building tree 62 of 600\n",
      "building tree 63 of 600\n",
      "building tree 64 of 600\n",
      "building tree 65 of 600\n",
      "building tree 66 of 600\n",
      "building tree 67 of 600\n",
      "building tree 68 of 600\n",
      "building tree 69 of 600\n",
      "building tree 70 of 600\n",
      "building tree 71 of 600\n",
      "building tree 72 of 600\n",
      "building tree 73 of 600\n",
      "building tree 74 of 600\n",
      "building tree 75 of 600\n",
      "building tree 76 of 600\n",
      "building tree 77 of 600\n",
      "building tree 78 of 600\n",
      "building tree 79 of 600\n",
      "building tree 80 of 600\n",
      "building tree 81 of 600\n",
      "building tree 82 of 600\n",
      "building tree 83 of 600\n",
      "building tree 84 of 600\n",
      "building tree 85 of 600\n",
      "building tree 86 of 600\n",
      "building tree 87 of 600\n",
      "building tree 88 of 600\n",
      "building tree 89 of 600\n",
      "building tree 90 of 600\n",
      "building tree 91 of 600\n",
      "building tree 92 of 600\n",
      "building tree 93 of 600\n",
      "building tree 94 of 600\n",
      "building tree 95 of 600\n",
      "building tree 96 of 600\n",
      "building tree 97 of 600\n",
      "building tree 98 of 600\n",
      "building tree 99 of 600\n",
      "building tree 100 of 600\n",
      "building tree 101 of 600\n",
      "building tree 102 of 600\n",
      "building tree 103 of 600\n",
      "building tree 104 of 600\n",
      "building tree 105 of 600\n",
      "building tree 106 of 600\n",
      "building tree 107 of 600\n",
      "building tree 108 of 600\n",
      "building tree 109 of 600\n",
      "building tree 110 of 600\n",
      "building tree 111 of 600\n",
      "building tree 112 of 600\n",
      "building tree 113 of 600\n",
      "building tree 114 of 600\n",
      "building tree 115 of 600\n",
      "building tree 116 of 600\n",
      "building tree 117 of 600\n",
      "building tree 118 of 600\n",
      "building tree 119 of 600\n",
      "building tree 120 of 600\n",
      "building tree 121 of 600\n",
      "building tree 122 of 600\n",
      "building tree 123 of 600\n",
      "building tree 124 of 600\n",
      "building tree 125 of 600\n",
      "building tree 126 of 600\n",
      "building tree 127 of 600\n",
      "building tree 128 of 600\n",
      "building tree 129 of 600\n",
      "building tree 130 of 600\n",
      "building tree 131 of 600\n",
      "building tree 132 of 600\n",
      "building tree 133 of 600\n",
      "building tree 134 of 600\n",
      "building tree 135 of 600\n",
      "building tree 136 of 600\n",
      "building tree 137 of 600\n",
      "building tree 138 of 600\n",
      "building tree 139 of 600\n",
      "building tree 140 of 600\n",
      "building tree 141 of 600\n",
      "building tree 142 of 600\n",
      "building tree 143 of 600\n",
      "building tree 144 of 600\n",
      "building tree 145 of 600\n",
      "building tree 146 of 600\n",
      "building tree 147 of 600\n",
      "building tree 148 of 600\n",
      "building tree 149 of 600\n",
      "building tree 150 of 600\n",
      "building tree 151 of 600\n",
      "building tree 152 of 600\n",
      "building tree 153 of 600\n",
      "building tree 154 of 600\n",
      "building tree 155 of 600\n",
      "building tree 156 of 600\n",
      "building tree 157 of 600\n",
      "building tree 158 of 600\n",
      "building tree 159 of 600\n",
      "building tree 160 of 600\n",
      "building tree 161 of 600\n",
      "building tree 162 of 600\n",
      "building tree 163 of 600\n",
      "building tree 164 of 600\n",
      "building tree 165 of 600\n",
      "building tree 166 of 600\n",
      "building tree 167 of 600\n",
      "building tree 168 of 600\n",
      "building tree 169 of 600\n",
      "building tree 170 of 600\n",
      "building tree 171 of 600\n",
      "building tree 172 of 600\n",
      "building tree 173 of 600\n",
      "building tree 174 of 600\n",
      "building tree 175 of 600\n",
      "building tree 176 of 600\n",
      "building tree 177 of 600\n",
      "building tree 178 of 600\n",
      "building tree 179 of 600\n",
      "building tree 180 of 600\n",
      "building tree 181 of 600\n",
      "building tree 182 of 600\n",
      "building tree 183 of 600\n",
      "building tree 184 of 600\n",
      "building tree 185 of 600\n",
      "building tree 186 of 600\n",
      "building tree 187 of 600\n",
      "building tree 188 of 600\n",
      "building tree 189 of 600\n",
      "building tree 190 of 600\n",
      "building tree 191 of 600\n",
      "building tree 192 of 600\n",
      "building tree 193 of 600\n",
      "building tree 194 of 600\n",
      "building tree 195 of 600\n",
      "building tree 196 of 600\n",
      "building tree 197 of 600\n",
      "building tree 198 of 600\n",
      "building tree 199 of 600\n",
      "building tree 200 of 600\n",
      "building tree 201 of 600\n",
      "building tree 202 of 600\n",
      "building tree 203 of 600\n",
      "building tree 204 of 600\n",
      "building tree 205 of 600\n",
      "building tree 206 of 600\n",
      "building tree 207 of 600\n",
      "building tree 208 of 600\n",
      "building tree 209 of 600\n",
      "building tree 210 of 600\n",
      "building tree 211 of 600\n",
      "building tree 212 of 600\n",
      "building tree 213 of 600\n",
      "building tree 214 of 600\n",
      "building tree 215 of 600\n",
      "building tree 216 of 600\n",
      "building tree 217 of 600\n",
      "building tree 218 of 600\n",
      "building tree 219 of 600\n",
      "building tree 220 of 600\n",
      "building tree 221 of 600\n",
      "building tree 222 of 600\n",
      "building tree 223 of 600\n",
      "building tree 224 of 600\n",
      "building tree 225 of 600\n",
      "building tree 226 of 600\n",
      "building tree 227 of 600\n",
      "building tree 228 of 600\n",
      "building tree 229 of 600\n",
      "building tree 230 of 600\n",
      "building tree 231 of 600\n",
      "building tree 232 of 600\n",
      "building tree 233 of 600\n",
      "building tree 234 of 600\n",
      "building tree 235 of 600\n",
      "building tree 236 of 600\n",
      "building tree 237 of 600\n",
      "building tree 238 of 600\n",
      "building tree 239 of 600\n",
      "building tree 240 of 600\n",
      "building tree 241 of 600\n",
      "building tree 242 of 600\n",
      "building tree 243 of 600\n",
      "building tree 244 of 600\n",
      "building tree 245 of 600\n",
      "building tree 246 of 600\n",
      "building tree 247 of 600\n",
      "building tree 248 of 600\n",
      "building tree 249 of 600\n",
      "building tree 250 of 600\n",
      "building tree 251 of 600\n",
      "building tree 252 of 600\n",
      "building tree 253 of 600\n",
      "building tree 254 of 600\n",
      "building tree 255 of 600\n",
      "building tree 256 of 600\n",
      "building tree 257 of 600\n",
      "building tree 258 of 600\n",
      "building tree 259 of 600\n",
      "building tree 260 of 600\n",
      "building tree 261 of 600\n",
      "building tree 262 of 600\n",
      "building tree 263 of 600\n",
      "building tree 264 of 600\n",
      "building tree 265 of 600\n",
      "building tree 266 of 600\n",
      "building tree 267 of 600\n",
      "building tree 268 of 600\n",
      "building tree 269 of 600\n",
      "building tree 270 of 600\n",
      "building tree 271 of 600\n",
      "building tree 272 of 600\n",
      "building tree 273 of 600\n",
      "building tree 274 of 600\n",
      "building tree 275 of 600\n",
      "building tree 276 of 600\n",
      "building tree 277 of 600\n",
      "building tree 278 of 600\n",
      "building tree 279 of 600\n",
      "building tree 280 of 600\n",
      "building tree 281 of 600\n",
      "building tree 282 of 600\n",
      "building tree 283 of 600\n",
      "building tree 284 of 600\n",
      "building tree 285 of 600\n",
      "building tree 286 of 600\n",
      "building tree 287 of 600\n",
      "building tree 288 of 600\n",
      "building tree 289 of 600\n",
      "building tree 290 of 600\n",
      "building tree 291 of 600\n",
      "building tree 292 of 600\n",
      "building tree 293 of 600\n",
      "building tree 294 of 600\n",
      "building tree 295 of 600\n",
      "building tree 296 of 600\n",
      "building tree 297 of 600\n",
      "building tree 298 of 600\n",
      "building tree 299 of 600\n",
      "building tree 300 of 600\n",
      "building tree 301 of 600\n",
      "building tree 302 of 600\n",
      "building tree 303 of 600\n",
      "building tree 304 of 600\n",
      "building tree 305 of 600\n",
      "building tree 306 of 600\n",
      "building tree 307 of 600\n",
      "building tree 308 of 600\n",
      "building tree 309 of 600\n",
      "building tree 310 of 600\n",
      "building tree 311 of 600\n",
      "building tree 312 of 600\n",
      "building tree 313 of 600\n",
      "building tree 314 of 600\n",
      "building tree 315 of 600\n",
      "building tree 316 of 600\n",
      "building tree 317 of 600\n",
      "building tree 318 of 600\n",
      "building tree 319 of 600\n",
      "building tree 320 of 600\n",
      "building tree 321 of 600\n",
      "building tree 322 of 600\n",
      "building tree 323 of 600\n",
      "building tree 324 of 600\n",
      "building tree 325 of 600\n",
      "building tree 326 of 600\n",
      "building tree 327 of 600\n",
      "building tree 328 of 600\n",
      "building tree 329 of 600\n",
      "building tree 330 of 600\n",
      "building tree 331 of 600\n",
      "building tree 332 of 600\n",
      "building tree 333 of 600\n",
      "building tree 334 of 600\n",
      "building tree 335 of 600\n",
      "building tree 336 of 600\n",
      "building tree 337 of 600\n",
      "building tree 338 of 600\n",
      "building tree 339 of 600\n",
      "building tree 340 of 600\n",
      "building tree 341 of 600\n",
      "building tree 342 of 600\n",
      "building tree 343 of 600\n",
      "building tree 344 of 600\n",
      "building tree 345 of 600\n",
      "building tree 346 of 600\n",
      "building tree 347 of 600\n",
      "building tree 348 of 600\n",
      "building tree 349 of 600\n",
      "building tree 350 of 600\n",
      "building tree 351 of 600\n",
      "building tree 352 of 600\n",
      "building tree 353 of 600\n",
      "building tree 354 of 600\n",
      "building tree 355 of 600\n",
      "building tree 356 of 600\n",
      "building tree 357 of 600\n",
      "building tree 358 of 600\n",
      "building tree 359 of 600\n",
      "building tree 360 of 600\n",
      "building tree 361 of 600\n",
      "building tree 362 of 600\n",
      "building tree 363 of 600\n",
      "building tree 364 of 600\n",
      "building tree 365 of 600\n",
      "building tree 366 of 600\n",
      "building tree 367 of 600\n",
      "building tree 368 of 600\n",
      "building tree 369 of 600\n",
      "building tree 370 of 600\n",
      "building tree 371 of 600\n",
      "building tree 372 of 600\n",
      "building tree 373 of 600\n",
      "building tree 374 of 600\n",
      "building tree 375 of 600\n",
      "building tree 376 of 600\n",
      "building tree 377 of 600\n",
      "building tree 378 of 600\n",
      "building tree 379 of 600\n",
      "building tree 380 of 600\n",
      "building tree 381 of 600\n",
      "building tree 382 of 600\n",
      "building tree 383 of 600\n",
      "building tree 384 of 600\n",
      "building tree 385 of 600\n",
      "building tree 386 of 600\n",
      "building tree 387 of 600\n",
      "building tree 388 of 600\n",
      "building tree 389 of 600\n",
      "building tree 390 of 600\n",
      "building tree 391 of 600\n",
      "building tree 392 of 600\n",
      "building tree 393 of 600\n",
      "building tree 394 of 600\n",
      "building tree 395 of 600\n",
      "building tree 396 of 600\n",
      "building tree 397 of 600\n",
      "building tree 398 of 600\n",
      "building tree 399 of 600\n",
      "building tree 400 of 600\n",
      "building tree 401 of 600\n",
      "building tree 402 of 600\n",
      "building tree 403 of 600\n",
      "building tree 404 of 600\n",
      "building tree 405 of 600\n",
      "building tree 406 of 600\n",
      "building tree 407 of 600\n",
      "building tree 408 of 600\n",
      "building tree 409 of 600\n",
      "building tree 410 of 600\n",
      "building tree 411 of 600\n",
      "building tree 412 of 600\n",
      "building tree 413 of 600\n",
      "building tree 414 of 600\n",
      "building tree 415 of 600\n",
      "building tree 416 of 600\n",
      "building tree 417 of 600\n",
      "building tree 418 of 600\n",
      "building tree 419 of 600\n",
      "building tree 420 of 600\n",
      "building tree 421 of 600\n",
      "building tree 422 of 600\n",
      "building tree 423 of 600\n",
      "building tree 424 of 600\n",
      "building tree 425 of 600\n",
      "building tree 426 of 600\n",
      "building tree 427 of 600\n",
      "building tree 428 of 600\n",
      "building tree 429 of 600\n",
      "building tree 430 of 600\n",
      "building tree 431 of 600\n",
      "building tree 432 of 600\n",
      "building tree 433 of 600\n",
      "building tree 434 of 600\n",
      "building tree 435 of 600\n",
      "building tree 436 of 600\n",
      "building tree 437 of 600\n",
      "building tree 438 of 600\n",
      "building tree 439 of 600\n",
      "building tree 440 of 600\n",
      "building tree 441 of 600\n",
      "building tree 442 of 600\n",
      "building tree 443 of 600\n",
      "building tree 444 of 600\n",
      "building tree 445 of 600\n",
      "building tree 446 of 600\n",
      "building tree 447 of 600\n",
      "building tree 448 of 600\n",
      "building tree 449 of 600\n",
      "building tree 450 of 600\n",
      "building tree 451 of 600\n",
      "building tree 452 of 600\n",
      "building tree 453 of 600\n",
      "building tree 454 of 600\n",
      "building tree 455 of 600\n",
      "building tree 456 of 600\n",
      "building tree 457 of 600\n",
      "building tree 458 of 600\n",
      "building tree 459 of 600\n",
      "building tree 460 of 600\n",
      "building tree 461 of 600\n",
      "building tree 462 of 600\n",
      "building tree 463 of 600\n",
      "building tree 464 of 600\n",
      "building tree 465 of 600\n",
      "building tree 466 of 600\n",
      "building tree 467 of 600\n",
      "building tree 468 of 600\n",
      "building tree 469 of 600\n",
      "building tree 470 of 600\n",
      "building tree 471 of 600\n",
      "building tree 472 of 600\n",
      "building tree 473 of 600\n",
      "building tree 474 of 600\n",
      "building tree 475 of 600\n",
      "building tree 476 of 600\n",
      "building tree 477 of 600\n",
      "building tree 478 of 600\n",
      "building tree 479 of 600\n",
      "building tree 480 of 600\n",
      "building tree 481 of 600\n",
      "building tree 482 of 600\n",
      "building tree 483 of 600\n",
      "building tree 484 of 600\n",
      "building tree 485 of 600\n",
      "building tree 486 of 600\n",
      "building tree 487 of 600\n",
      "building tree 488 of 600\n",
      "building tree 489 of 600\n",
      "building tree 490 of 600\n",
      "building tree 491 of 600\n",
      "building tree 492 of 600\n",
      "building tree 493 of 600\n",
      "building tree 494 of 600\n",
      "building tree 495 of 600\n",
      "building tree 496 of 600\n",
      "building tree 497 of 600\n",
      "building tree 498 of 600\n",
      "building tree 499 of 600\n",
      "building tree 500 of 600\n",
      "building tree 501 of 600\n",
      "building tree 502 of 600\n",
      "building tree 503 of 600\n",
      "building tree 504 of 600\n",
      "building tree 505 of 600\n",
      "building tree 506 of 600\n",
      "building tree 507 of 600\n",
      "building tree 508 of 600\n",
      "building tree 509 of 600\n",
      "building tree 510 of 600\n",
      "building tree 511 of 600\n",
      "building tree 512 of 600\n",
      "building tree 513 of 600\n",
      "building tree 514 of 600\n",
      "building tree 515 of 600\n",
      "building tree 516 of 600\n",
      "building tree 517 of 600\n",
      "building tree 518 of 600\n",
      "building tree 519 of 600\n",
      "building tree 520 of 600\n",
      "building tree 521 of 600\n",
      "building tree 522 of 600\n",
      "building tree 523 of 600\n",
      "building tree 524 of 600\n",
      "building tree 525 of 600\n",
      "building tree 526 of 600\n",
      "building tree 527 of 600\n",
      "building tree 528 of 600\n",
      "building tree 529 of 600\n",
      "building tree 530 of 600\n",
      "building tree 531 of 600\n",
      "building tree 532 of 600\n",
      "building tree 533 of 600\n",
      "building tree 534 of 600\n",
      "building tree 535 of 600\n",
      "building tree 536 of 600\n",
      "building tree 537 of 600\n",
      "building tree 538 of 600\n",
      "building tree 539 of 600\n",
      "building tree 540 of 600\n",
      "building tree 541 of 600\n",
      "building tree 542 of 600\n",
      "building tree 543 of 600\n",
      "building tree 544 of 600\n",
      "building tree 545 of 600\n",
      "building tree 546 of 600\n",
      "building tree 547 of 600\n",
      "building tree 548 of 600\n",
      "building tree 549 of 600\n",
      "building tree 550 of 600\n",
      "building tree 551 of 600\n",
      "building tree 552 of 600\n",
      "building tree 553 of 600\n",
      "building tree 554 of 600\n",
      "building tree 555 of 600\n",
      "building tree 556 of 600\n",
      "building tree 557 of 600\n",
      "building tree 558 of 600\n",
      "building tree 559 of 600\n",
      "building tree 560 of 600\n",
      "building tree 561 of 600\n",
      "building tree 562 of 600\n",
      "building tree 563 of 600\n",
      "building tree 564 of 600\n",
      "building tree 565 of 600\n",
      "building tree 566 of 600\n",
      "building tree 567 of 600\n",
      "building tree 568 of 600\n",
      "building tree 569 of 600\n",
      "building tree 570 of 600\n",
      "building tree 571 of 600\n",
      "building tree 572 of 600\n",
      "building tree 573 of 600\n",
      "building tree 574 of 600\n",
      "building tree 575 of 600\n",
      "building tree 576 of 600\n",
      "building tree 577 of 600\n",
      "building tree 578 of 600\n",
      "building tree 579 of 600\n",
      "building tree 580 of 600\n",
      "building tree 581 of 600\n",
      "building tree 582 of 600\n",
      "building tree 583 of 600\n",
      "building tree 584 of 600\n",
      "building tree 585 of 600\n",
      "building tree 586 of 600\n",
      "building tree 587 of 600\n",
      "building tree 588 of 600\n",
      "building tree 589 of 600\n",
      "building tree 590 of 600\n",
      "building tree 591 of 600\n",
      "building tree 592 of 600\n",
      "building tree 593 of 600\n",
      "building tree 594 of 600\n",
      "building tree 595 of 600\n",
      "building tree 596 of 600\n",
      "building tree 597 of 600\n",
      "building tree 598 of 600\n",
      "building tree 599 of 600\n",
      "building tree 600 of 600\n"
     ]
    },
    {
     "name": "stderr",
     "output_type": "stream",
     "text": [
      "[Parallel(n_jobs=1)]: Done 600 out of 600 | elapsed:    6.1s finished\n"
     ]
    },
    {
     "data": {
      "text/plain": [
       "RandomForestClassifier(bootstrap=True, ccp_alpha=0.0, class_weight=None,\n",
       "                       criterion='entropy', max_depth=120, max_features='sqrt',\n",
       "                       max_leaf_nodes=None, max_samples=None,\n",
       "                       min_impurity_decrease=0.0, min_impurity_split=None,\n",
       "                       min_samples_leaf=1, min_samples_split=2,\n",
       "                       min_weight_fraction_leaf=0.0, n_estimators=600,\n",
       "                       n_jobs=None, oob_score=False, random_state=None,\n",
       "                       verbose=3, warm_start=False)"
      ]
     },
     "execution_count": 69,
     "metadata": {
      "tags": []
     },
     "output_type": "execute_result"
    }
   ],
   "source": [
    "rdf_clf = RandomForestClassifier(bootstrap=True, ccp_alpha=0.0, class_weight=None,\n",
    "                       criterion='entropy', max_depth=120, max_features='sqrt',\n",
    "                       max_leaf_nodes=None, max_samples=None,\n",
    "                       min_impurity_decrease=0.0, min_impurity_split=None,\n",
    "                       min_samples_leaf=1, min_samples_split=2,\n",
    "                       min_weight_fraction_leaf=0.0, n_estimators=600,\n",
    "                       n_jobs=None, oob_score=False, random_state=None,\n",
    "                       verbose=3, warm_start=False)\n",
    "\n",
    "rdf_clf.fit(X_train, Y_train)"
   ]
  },
  {
   "cell_type": "code",
   "execution_count": null,
   "metadata": {
    "colab": {
     "base_uri": "https://localhost:8080/"
    },
    "id": "RAnXvtVXBpcr",
    "outputId": "ff5b4dcc-980f-4447-e160-a5134565d1b5"
   },
   "outputs": [
    {
     "name": "stderr",
     "output_type": "stream",
     "text": [
      "[Parallel(n_jobs=1)]: Using backend SequentialBackend with 1 concurrent workers.\n",
      "[Parallel(n_jobs=1)]: Done   1 out of   1 | elapsed:    0.0s remaining:    0.0s\n",
      "[Parallel(n_jobs=1)]: Done   2 out of   2 | elapsed:    0.0s remaining:    0.0s\n",
      "[Parallel(n_jobs=1)]: Done 600 out of 600 | elapsed:    0.5s finished\n"
     ]
    }
   ],
   "source": [
    "y_pred = rdf_clf.predict(x_test)"
   ]
  },
  {
   "cell_type": "code",
   "execution_count": null,
   "metadata": {
    "colab": {
     "base_uri": "https://localhost:8080/",
     "height": 1000
    },
    "id": "4CcCx65JBvHq",
    "outputId": "0a06c3bf-3451-4921-d963-bb4cd035c01d"
   },
   "outputs": [
    {
     "name": "stdout",
     "output_type": "stream",
     "text": [
      "Confusion matrix\n",
      "\n",
      " [[4157   31]\n",
      " [ 128 4073]]\n",
      "\n",
      "True Positives(TP) =  4157\n",
      "\n",
      "True Negatives(TN) =  4073\n",
      "\n",
      "False Positives(FP){type 1 error} =  31\n",
      "\n",
      "False Negatives(FN){type 2 error} =  128\n",
      "\n",
      "\n",
      "\n",
      "classification report\n",
      "              precision    recall  f1-score   support\n",
      "\n",
      "           0       0.97      0.99      0.98      4188\n",
      "           1       0.99      0.97      0.98      4201\n",
      "\n",
      "    accuracy                           0.98      8389\n",
      "   macro avg       0.98      0.98      0.98      8389\n",
      "weighted avg       0.98      0.98      0.98      8389\n",
      "\n",
      "\n",
      "\n",
      "\n",
      "Classification accuracy : 0.9810\n",
      "\n",
      "\n",
      "\n",
      "Classification error : 0.0190\n",
      "\n",
      "\n",
      "\n",
      "Precision : 0.9926\n",
      "\n",
      "\n",
      "\n",
      "Recall or Sensitivity : 0.9701\n",
      "\n",
      "\n",
      "\n",
      "True Positive Rate : 0.9701\n",
      "\n",
      "\n",
      "\n",
      "False Positive Rate : 0.0076\n",
      "\n",
      "\n",
      "\n"
     ]
    },
    {
     "data": {
      "image/png": "[encoded data removed]",
      "text/plain": [
       "<Figure size 432x288 with 2 Axes>"
      ]
     },
     "metadata": {
      "needs_background": "light",
      "tags": []
     },
     "output_type": "display_data"
    }
   ],
   "source": [
    "# print confusion-matrix\n",
    "from sklearn.metrics import confusion_matrix, classification_report\n",
    "cm = confusion_matrix(y_test, y_pred)\n",
    "\n",
    "print('Confusion matrix\\n\\n', cm)\n",
    "\n",
    "print('\\nTrue Positives(TP) = ', cm[0,0])\n",
    "\n",
    "print('\\nTrue Negatives(TN) = ', cm[1,1])\n",
    "\n",
    "print('\\nFalse Positives(FP){type 1 error} = ', cm[0,1])\n",
    "\n",
    "print('\\nFalse Negatives(FN){type 2 error} = ', cm[1,0])\n",
    "print('\\n\\n')\n",
    "\n",
    "#-------------------------------visualization of confusion matrix -----------------------------------------------------------\n",
    "\n",
    "# visualize confusion matrix with seaborn heatmap\n",
    "\n",
    "cm_matrix = pd.DataFrame(data=cm, columns=['Actual Positive:1', 'Actual Negative:0'], \n",
    "                                 index=['Predict Positive:1', 'Predict Negative:0'])\n",
    "\n",
    "sns.heatmap(cm_matrix, annot=True, fmt='d', cmap='YlGnBu')\n",
    "\n",
    "#----------------------------------classification report ----------------------------------------------------------------------\n",
    "print('classification report')\n",
    "print(classification_report(y_test, y_pred))\n",
    "print('\\n\\n')\n",
    "#-----------------------------------classification accuracy -------------------------------------------------------------------\n",
    "TP = cm[0,0]\n",
    "TN = cm[1,1]\n",
    "FP = cm[0,1]\n",
    "FN = cm[1,0]\n",
    "\n",
    "classification_accuracy = (TP + TN) / float(TP + TN + FP + FN)\n",
    "\n",
    "print('Classification accuracy : {0:0.4f}'.format(classification_accuracy))\n",
    "print('\\n\\n')\n",
    "\n",
    "#----------------------------------------classification error------------------------------------------------------------------\n",
    "\n",
    "classification_error = (FP + FN) / float(TP + TN + FP + FN)\n",
    "\n",
    "print('Classification error : {0:0.4f}'.format(classification_error))\n",
    "print('\\n\\n')\n",
    "\n",
    "#----------------------------------------precision-----------------------------------------------------------------------------\n",
    "\n",
    "precision = TP / float(TP + FP)\n",
    "\n",
    "print('Precision : {0:0.4f}'.format(precision))\n",
    "print('\\n\\n')\n",
    "\n",
    "\n",
    "#--------------------------------------------Recall---------------------------------------------------------------------------\n",
    "recall = TP / float(TP + FN)\n",
    "\n",
    "print('Recall or Sensitivity : {0:0.4f}'.format(recall))\n",
    "print('\\n\\n')\n",
    "#--------------------------------------Truepositive rate------------------------------------------------------------------------\n",
    "\n",
    "true_positive_rate = TP / float(TP + FN)\n",
    "\n",
    "print('True Positive Rate : {0:0.4f}'.format(true_positive_rate))\n",
    "print('\\n\\n')\n",
    "\n",
    "#--------------------------------------false positive rate---------------------------------------------------------------------\n",
    "false_positive_rate = FP / float(FP + TN)\n",
    "\n",
    "print('False Positive Rate : {0:0.4f}'.format(false_positive_rate))\n",
    "print('\\n\\n')"
   ]
  },
  {
   "cell_type": "code",
   "execution_count": null,
   "metadata": {
    "id": "idmDxnTwqpXe"
   },
   "outputs": [],
   "source": [
    "import pickle\n",
    "\n",
    "#saving the model to the local file system\n",
    "filename = 'finalized_model.pickle'\n",
    "pickle.dump(rdf_clf, open(filename, 'wb'))"
   ]
  },
  {
   "cell_type": "code",
   "execution_count": null,
   "metadata": {
    "id": "qtPCFAEktqUn"
   },
   "outputs": [],
   "source": [
    "#saving the scalar to the local file system\n",
    "filename = 'finalized_scalar.pickle'\n",
    "pickle.dump(transformer, open(filename, 'wb'))"
   ]
  },
  {
   "cell_type": "code",
   "execution_count": null,
   "metadata": {
    "colab": {
     "base_uri": "https://localhost:8080/",
     "height": 439
    },
    "id": "g8oUcpnFuiVj",
    "outputId": "f9109c04-cf22-4530-b664-e0c4cf00385b"
   },
   "outputs": [
    {
     "data": {
      "text/html": [
       "<div>\n",
       "<style scoped>\n",
       "    .dataframe tbody tr th:only-of-type {\n",
       "        vertical-align: middle;\n",
       "    }\n",
       "\n",
       "    .dataframe tbody tr th {\n",
       "        vertical-align: top;\n",
       "    }\n",
       "\n",
       "    .dataframe thead th {\n",
       "        text-align: right;\n",
       "    }\n",
       "</style>\n",
       "<table border=\"1\" class=\"dataframe\">\n",
       "  <thead>\n",
       "    <tr style=\"text-align: right;\">\n",
       "      <th></th>\n",
       "      <th>forecast_6_month</th>\n",
       "      <th>forecast_9_month</th>\n",
       "      <th>sales_3_month</th>\n",
       "      <th>national_inv</th>\n",
       "      <th>sales_6_month</th>\n",
       "      <th>sales_9_month</th>\n",
       "      <th>perf_6_month_avg</th>\n",
       "      <th>perf_12_month_avg</th>\n",
       "      <th>forecast_3_month</th>\n",
       "    </tr>\n",
       "  </thead>\n",
       "  <tbody>\n",
       "    <tr>\n",
       "      <th>0</th>\n",
       "      <td>0.0</td>\n",
       "      <td>0.0</td>\n",
       "      <td>0.0</td>\n",
       "      <td>0.0</td>\n",
       "      <td>0.0</td>\n",
       "      <td>0.0</td>\n",
       "      <td>-99.00</td>\n",
       "      <td>-99.00</td>\n",
       "      <td>0.0</td>\n",
       "    </tr>\n",
       "    <tr>\n",
       "      <th>1</th>\n",
       "      <td>0.0</td>\n",
       "      <td>0.0</td>\n",
       "      <td>0.0</td>\n",
       "      <td>0.0</td>\n",
       "      <td>0.0</td>\n",
       "      <td>0.0</td>\n",
       "      <td>-99.00</td>\n",
       "      <td>-99.00</td>\n",
       "      <td>0.0</td>\n",
       "    </tr>\n",
       "    <tr>\n",
       "      <th>2</th>\n",
       "      <td>0.0</td>\n",
       "      <td>0.0</td>\n",
       "      <td>0.0</td>\n",
       "      <td>0.0</td>\n",
       "      <td>0.0</td>\n",
       "      <td>0.0</td>\n",
       "      <td>-99.00</td>\n",
       "      <td>-99.00</td>\n",
       "      <td>0.0</td>\n",
       "    </tr>\n",
       "    <tr>\n",
       "      <th>3</th>\n",
       "      <td>0.0</td>\n",
       "      <td>0.0</td>\n",
       "      <td>0.0</td>\n",
       "      <td>0.0</td>\n",
       "      <td>0.0</td>\n",
       "      <td>0.0</td>\n",
       "      <td>-99.00</td>\n",
       "      <td>-99.00</td>\n",
       "      <td>0.0</td>\n",
       "    </tr>\n",
       "    <tr>\n",
       "      <th>4</th>\n",
       "      <td>0.0</td>\n",
       "      <td>0.0</td>\n",
       "      <td>0.0</td>\n",
       "      <td>0.0</td>\n",
       "      <td>0.0</td>\n",
       "      <td>0.0</td>\n",
       "      <td>-99.00</td>\n",
       "      <td>-99.00</td>\n",
       "      <td>0.0</td>\n",
       "    </tr>\n",
       "    <tr>\n",
       "      <th>...</th>\n",
       "      <td>...</td>\n",
       "      <td>...</td>\n",
       "      <td>...</td>\n",
       "      <td>...</td>\n",
       "      <td>...</td>\n",
       "      <td>...</td>\n",
       "      <td>...</td>\n",
       "      <td>...</td>\n",
       "      <td>...</td>\n",
       "    </tr>\n",
       "    <tr>\n",
       "      <th>27957</th>\n",
       "      <td>16.0</td>\n",
       "      <td>32.0</td>\n",
       "      <td>10.0</td>\n",
       "      <td>1.0</td>\n",
       "      <td>23.0</td>\n",
       "      <td>33.0</td>\n",
       "      <td>0.83</td>\n",
       "      <td>0.85</td>\n",
       "      <td>8.0</td>\n",
       "    </tr>\n",
       "    <tr>\n",
       "      <th>27958</th>\n",
       "      <td>0.0</td>\n",
       "      <td>0.0</td>\n",
       "      <td>0.0</td>\n",
       "      <td>1.0</td>\n",
       "      <td>0.0</td>\n",
       "      <td>1.0</td>\n",
       "      <td>0.73</td>\n",
       "      <td>0.79</td>\n",
       "      <td>0.0</td>\n",
       "    </tr>\n",
       "    <tr>\n",
       "      <th>27959</th>\n",
       "      <td>6.0</td>\n",
       "      <td>8.0</td>\n",
       "      <td>6.0</td>\n",
       "      <td>1.0</td>\n",
       "      <td>13.0</td>\n",
       "      <td>13.0</td>\n",
       "      <td>0.73</td>\n",
       "      <td>0.70</td>\n",
       "      <td>4.0</td>\n",
       "    </tr>\n",
       "    <tr>\n",
       "      <th>27960</th>\n",
       "      <td>90.0</td>\n",
       "      <td>90.0</td>\n",
       "      <td>0.0</td>\n",
       "      <td>0.0</td>\n",
       "      <td>0.0</td>\n",
       "      <td>0.0</td>\n",
       "      <td>0.84</td>\n",
       "      <td>0.55</td>\n",
       "      <td>72.0</td>\n",
       "    </tr>\n",
       "    <tr>\n",
       "      <th>27961</th>\n",
       "      <td>2.0</td>\n",
       "      <td>4.0</td>\n",
       "      <td>1.0</td>\n",
       "      <td>2.0</td>\n",
       "      <td>1.0</td>\n",
       "      <td>2.0</td>\n",
       "      <td>0.56</td>\n",
       "      <td>0.68</td>\n",
       "      <td>1.0</td>\n",
       "    </tr>\n",
       "  </tbody>\n",
       "</table>\n",
       "<p>27962 rows × 9 columns</p>\n",
       "</div>"
      ],
      "text/plain": [
       "       forecast_6_month  forecast_9_month  sales_3_month  national_inv  \\\n",
       "0                   0.0               0.0            0.0           0.0   \n",
       "1                   0.0               0.0            0.0           0.0   \n",
       "2                   0.0               0.0            0.0           0.0   \n",
       "3                   0.0               0.0            0.0           0.0   \n",
       "4                   0.0               0.0            0.0           0.0   \n",
       "...                 ...               ...            ...           ...   \n",
       "27957              16.0              32.0           10.0           1.0   \n",
       "27958               0.0               0.0            0.0           1.0   \n",
       "27959               6.0               8.0            6.0           1.0   \n",
       "27960              90.0              90.0            0.0           0.0   \n",
       "27961               2.0               4.0            1.0           2.0   \n",
       "\n",
       "       sales_6_month  sales_9_month  perf_6_month_avg  perf_12_month_avg  \\\n",
       "0                0.0            0.0            -99.00             -99.00   \n",
       "1                0.0            0.0            -99.00             -99.00   \n",
       "2                0.0            0.0            -99.00             -99.00   \n",
       "3                0.0            0.0            -99.00             -99.00   \n",
       "4                0.0            0.0            -99.00             -99.00   \n",
       "...              ...            ...               ...                ...   \n",
       "27957           23.0           33.0              0.83               0.85   \n",
       "27958            0.0            1.0              0.73               0.79   \n",
       "27959           13.0           13.0              0.73               0.70   \n",
       "27960            0.0            0.0              0.84               0.55   \n",
       "27961            1.0            2.0              0.56               0.68   \n",
       "\n",
       "       forecast_3_month  \n",
       "0                   0.0  \n",
       "1                   0.0  \n",
       "2                   0.0  \n",
       "3                   0.0  \n",
       "4                   0.0  \n",
       "...                 ...  \n",
       "27957               8.0  \n",
       "27958               0.0  \n",
       "27959               4.0  \n",
       "27960              72.0  \n",
       "27961               1.0  \n",
       "\n",
       "[27962 rows x 9 columns]"
      ]
     },
     "execution_count": 74,
     "metadata": {
      "tags": []
     },
     "output_type": "execute_result"
    }
   ],
   "source": [
    "newBackordDf[predictors]"
   ]
  },
  {
   "cell_type": "code",
   "execution_count": null,
   "metadata": {
    "id": "s1JY1fzHtr9Q"
   },
   "outputs": [],
   "source": [
    "loaded_scalar = pickle.load(open('finalized_scalar.pickle', 'rb'))\n",
    "loaded_model = pickle.load(open('finalized_model.pickle', 'rb'))"
   ]
  },
  {
   "cell_type": "code",
   "execution_count": null,
   "metadata": {
    "id": "M5lwvpczMcZm"
   },
   "outputs": [],
   "source": [
    "tranfm_f = loaded_scalar.transform([[16.0,32.0,\t10.0,\t1.0,\t23.0,\t33.0,\t0.83,\t0.85,\t8.0]])"
   ]
  },
  {
   "cell_type": "code",
   "execution_count": null,
   "metadata": {
    "colab": {
     "base_uri": "https://localhost:8080/"
    },
    "id": "gapNE3B2NMP1",
    "outputId": "15f12bc6-5719-4e8b-a7a9-796e567a1c06"
   },
   "outputs": [
    {
     "name": "stderr",
     "output_type": "stream",
     "text": [
      "[Parallel(n_jobs=1)]: Using backend SequentialBackend with 1 concurrent workers.\n",
      "[Parallel(n_jobs=1)]: Done   1 out of   1 | elapsed:    0.0s remaining:    0.0s\n",
      "[Parallel(n_jobs=1)]: Done   2 out of   2 | elapsed:    0.0s remaining:    0.0s\n",
      "[Parallel(n_jobs=1)]: Done 600 out of 600 | elapsed:    0.1s finished\n"
     ]
    },
    {
     "data": {
      "text/plain": [
       "array([1])"
      ]
     },
     "execution_count": 78,
     "metadata": {
      "tags": []
     },
     "output_type": "execute_result"
    }
   ],
   "source": [
    "loaded_model.predict(tranfm_f)"
   ]
  },
  {
   "cell_type": "code",
   "execution_count": null,
   "metadata": {
    "colab": {
     "base_uri": "https://localhost:8080/"
    },
    "id": "6_QUzLYSOUM1",
    "outputId": "1dad1f2e-af6c-4991-faa8-6c187d8a8ec7"
   },
   "outputs": [
    {
     "data": {
      "text/plain": [
       "0        0\n",
       "1        0\n",
       "2        0\n",
       "3        0\n",
       "4        0\n",
       "        ..\n",
       "27957    1\n",
       "27958    1\n",
       "27959    1\n",
       "27960    1\n",
       "27961    1\n",
       "Name: went_on_backorder, Length: 27962, dtype: int64"
      ]
     },
     "execution_count": 80,
     "metadata": {
      "tags": []
     },
     "output_type": "execute_result"
    }
   ],
   "source": [
    "newBackordDf[target_c]"
   ]
  }
 ],
 "metadata": {
  "colab": {
   "collapsed_sections": [],
   "name": "final_eda_model_bkrod.ipynb",
   "provenance": []
  },
  "kernelspec": {
   "display_name": "Python 3",
   "language": "python",
   "name": "python3"
  },
  "language_info": {
   "codemirror_mode": {
    "name": "ipython",
    "version": 3
   },
   "file_extension": ".py",
   "mimetype": "text/x-python",
   "name": "python",
   "nbconvert_exporter": "python",
   "pygments_lexer": "ipython3",
   "version": "3.8.3"
  }
 },
 "nbformat": 4,
 "nbformat_minor": 2
}
